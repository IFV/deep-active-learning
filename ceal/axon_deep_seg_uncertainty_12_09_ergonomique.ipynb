{
 "cells": [
  {
   "cell_type": "code",
   "execution_count": 1,
   "metadata": {},
   "outputs": [
    {
     "name": "stderr",
     "output_type": "stream",
     "text": [
      "/Users/mulab_admin/anaconda2/lib/python2.7/site-packages/h5py/__init__.py:36: FutureWarning: Conversion of the second argument of issubdtype from `float` to `np.floating` is deprecated. In future, it will be treated as `np.float64 == np.dtype(float).type`.\n",
      "  from ._conv import register_converters as _register_converters\n",
      "Using TensorFlow backend.\n"
     ]
    }
   ],
   "source": [
    "from utils import *\n",
    "from constants import *\n",
    "from networks import *"
   ]
  },
  {
   "cell_type": "markdown",
   "metadata": {},
   "source": [
    "## U Net"
   ]
  },
  {
   "cell_type": "code",
   "execution_count": 2,
   "metadata": {},
   "outputs": [],
   "source": [
    "K.set_image_dim_ordering('th')  # Theano dimension ordering in this code\n",
    "smooth = 1.\n",
    "Dropout.call = call"
   ]
  },
  {
   "cell_type": "code",
   "execution_count": 3,
   "metadata": {},
   "outputs": [
    {
     "data": {
      "text/plain": [
       "u'/Users/mulab_admin/Documents/project_al/activelearningADS'"
      ]
     },
     "execution_count": 3,
     "metadata": {},
     "output_type": "execute_result"
    }
   ],
   "source": [
    "pwd"
   ]
  },
  {
   "cell_type": "code",
   "execution_count": 4,
   "metadata": {},
   "outputs": [],
   "source": [
    "path_img_train = '/Users/mulab_admin/Documents/CEAL/CEAL-Medical-Image-Segmentation/src/data/data_rosenberg2/images_69.npy'\n",
    "path_mask_train = '/Users/mulab_admin/Documents/CEAL/CEAL-Medical-Image-Segmentation/src/data/data_rosenberg2/masks_69.npy'\n",
    "\n",
    "path_img_valid = '/Users/mulab_admin/Documents/CEAL/CEAL-Medical-Image-Segmentation/src/data/data_rosenberg2/images_valid_29.npy'\n",
    "path_mask_valid = '/Users/mulab_admin/Documents/CEAL/CEAL-Medical-Image-Segmentation/src/data/data_rosenberg2/masks_valid_29.npy'\n",
    "\n",
    "\n",
    "path_img_test = '/Users/mulab_admin/Documents/CEAL/CEAL-Medical-Image-Segmentation/src/data/data_rosenberg2/images_test_1.npy'\n",
    "path_mask_test = '/Users/mulab_admin/Documents/CEAL/CEAL-Medical-Image-Segmentation/src/data/data_rosenberg2/masks_test_1.npy'\n",
    "\n",
    "\n",
    "log_file = open(\"log_file_jupyter_myelin.txt\", 'a')"
   ]
  },
  {
   "cell_type": "code",
   "execution_count": 5,
   "metadata": {},
   "outputs": [
    {
     "name": "stdout",
     "output_type": "stream",
     "text": [
      "\n",
      "Loading data...\n",
      "\n",
      "('*************Xtrain.shape***********', (69, 1, 512, 512))\n",
      "53\n",
      "\n",
      "Loading data...\n",
      "\n",
      "('*************Xvalid.shape***********', (29, 1, 512, 512))\n",
      "\n",
      "Loading data...\n",
      "\n",
      "('*************Xtest.shape***********', (1, 1, 512, 512))\n"
     ]
    }
   ],
   "source": [
    "X_train, y_train = load_data(path_img_train, path_mask_train )\n",
    "print(\"*************Xtrain.shape***********\", y_train.shape)\n",
    "labeled_index = np.arange(0, nb_labeled)\n",
    "unlabeled_index = np.arange(nb_labeled, len(X_train))\n",
    "print(len(labeled_index))\n",
    "\n",
    "# CEAL data definition\n",
    "X_valid, y_valid = load_data(path_img_valid, path_mask_valid)\n",
    "print(\"*************Xvalid.shape***********\", X_valid.shape)\n",
    "\n",
    "# CEAL data definition\n",
    "X_test, y_test = load_data(path_img_test, path_mask_test)\n",
    "print(\"*************Xtest.shape***********\", X_test.shape)\n"
   ]
  },
  {
   "cell_type": "code",
   "execution_count": 6,
   "metadata": {},
   "outputs": [
    {
     "name": "stdout",
     "output_type": "stream",
     "text": [
      "((27, 1, 512, 512), (27, 1, 512, 512), (2, 1, 512, 512), (2, 1, 512, 512))\n"
     ]
    }
   ],
   "source": [
    "X_valid = X_valid[:-2]\n",
    "y_valid = y_valid[:-2]\n",
    "\n",
    "X_test = X_valid[-2:]\n",
    "y_test = y_valid[-2:]\n",
    "\n",
    "\n",
    "print(X_valid.shape, y_valid.shape, X_test.shape, y_test.shape)"
   ]
  },
  {
   "cell_type": "code",
   "execution_count": 8,
   "metadata": {
    "scrolled": false
   },
   "outputs": [
    {
     "name": "stdout",
     "output_type": "stream",
     "text": [
      "__________________________________________________________________________________________________\n",
      "Layer (type)                    Output Shape         Param #     Connected to                     \n",
      "==================================================================================================\n",
      "input_1 (InputLayer)            (None, 1, 512, 512)  0                                            \n",
      "__________________________________________________________________________________________________\n",
      "conv2d_1 (Conv2D)               (None, 32, 512, 512) 320         input_1[0][0]                    \n",
      "__________________________________________________________________________________________________\n",
      "conv2d_2 (Conv2D)               (None, 32, 512, 512) 9248        conv2d_1[0][0]                   \n",
      "__________________________________________________________________________________________________\n",
      "batch_normalization_1 (BatchNor (None, 32, 512, 512) 128         conv2d_2[0][0]                   \n",
      "__________________________________________________________________________________________________\n",
      "max_pooling2d_1 (MaxPooling2D)  (None, 32, 256, 256) 0           batch_normalization_1[0][0]      \n",
      "__________________________________________________________________________________________________\n",
      "conv2d_3 (Conv2D)               (None, 64, 256, 256) 18496       max_pooling2d_1[0][0]            \n",
      "__________________________________________________________________________________________________\n",
      "conv2d_4 (Conv2D)               (None, 64, 256, 256) 36928       conv2d_3[0][0]                   \n",
      "__________________________________________________________________________________________________\n",
      "batch_normalization_2 (BatchNor (None, 64, 256, 256) 256         conv2d_4[0][0]                   \n",
      "__________________________________________________________________________________________________\n",
      "max_pooling2d_2 (MaxPooling2D)  (None, 64, 128, 128) 0           batch_normalization_2[0][0]      \n",
      "__________________________________________________________________________________________________\n",
      "conv2d_5 (Conv2D)               (None, 128, 128, 128 73856       max_pooling2d_2[0][0]            \n",
      "__________________________________________________________________________________________________\n",
      "conv2d_6 (Conv2D)               (None, 128, 128, 128 147584      conv2d_5[0][0]                   \n",
      "__________________________________________________________________________________________________\n",
      "batch_normalization_3 (BatchNor (None, 128, 128, 128 512         conv2d_6[0][0]                   \n",
      "__________________________________________________________________________________________________\n",
      "max_pooling2d_3 (MaxPooling2D)  (None, 128, 64, 64)  0           batch_normalization_3[0][0]      \n",
      "__________________________________________________________________________________________________\n",
      "conv2d_7 (Conv2D)               (None, 256, 64, 64)  295168      max_pooling2d_3[0][0]            \n",
      "__________________________________________________________________________________________________\n",
      "conv2d_8 (Conv2D)               (None, 256, 64, 64)  590080      conv2d_7[0][0]                   \n",
      "__________________________________________________________________________________________________\n",
      "batch_normalization_4 (BatchNor (None, 256, 64, 64)  1024        conv2d_8[0][0]                   \n",
      "__________________________________________________________________________________________________\n",
      "max_pooling2d_4 (MaxPooling2D)  (None, 256, 32, 32)  0           batch_normalization_4[0][0]      \n",
      "__________________________________________________________________________________________________\n",
      "conv2d_9 (Conv2D)               (None, 512, 32, 32)  1180160     max_pooling2d_4[0][0]            \n",
      "__________________________________________________________________________________________________\n",
      "conv2d_10 (Conv2D)              (None, 512, 32, 32)  2359808     conv2d_9[0][0]                   \n",
      "__________________________________________________________________________________________________\n",
      "dropout_1 (Dropout)             (None, 512, 32, 32)  0           conv2d_10[0][0]                  \n",
      "__________________________________________________________________________________________________\n",
      "up_sampling2d_1 (UpSampling2D)  (None, 512, 64, 64)  0           dropout_1[0][0]                  \n",
      "__________________________________________________________________________________________________\n",
      "concatenate_1 (Concatenate)     (None, 768, 64, 64)  0           up_sampling2d_1[0][0]            \n",
      "                                                                 conv2d_8[0][0]                   \n",
      "__________________________________________________________________________________________________\n",
      "conv2d_11 (Conv2D)              (None, 256, 64, 64)  1769728     concatenate_1[0][0]              \n",
      "__________________________________________________________________________________________________\n",
      "conv2d_12 (Conv2D)              (None, 256, 64, 64)  590080      conv2d_11[0][0]                  \n",
      "__________________________________________________________________________________________________\n",
      "up_sampling2d_2 (UpSampling2D)  (None, 256, 128, 128 0           conv2d_12[0][0]                  \n",
      "__________________________________________________________________________________________________\n",
      "concatenate_2 (Concatenate)     (None, 384, 128, 128 0           up_sampling2d_2[0][0]            \n",
      "                                                                 conv2d_6[0][0]                   \n",
      "__________________________________________________________________________________________________\n",
      "conv2d_13 (Conv2D)              (None, 128, 128, 128 442496      concatenate_2[0][0]              \n",
      "__________________________________________________________________________________________________\n",
      "conv2d_14 (Conv2D)              (None, 128, 128, 128 147584      conv2d_13[0][0]                  \n",
      "__________________________________________________________________________________________________\n",
      "batch_normalization_6 (BatchNor (None, 128, 128, 128 512         conv2d_14[0][0]                  \n",
      "__________________________________________________________________________________________________\n",
      "up_sampling2d_3 (UpSampling2D)  (None, 128, 256, 256 0           batch_normalization_6[0][0]      \n",
      "__________________________________________________________________________________________________\n",
      "concatenate_3 (Concatenate)     (None, 192, 256, 256 0           up_sampling2d_3[0][0]            \n",
      "                                                                 conv2d_4[0][0]                   \n",
      "__________________________________________________________________________________________________\n",
      "conv2d_15 (Conv2D)              (None, 64, 256, 256) 110656      concatenate_3[0][0]              \n",
      "__________________________________________________________________________________________________\n",
      "conv2d_16 (Conv2D)              (None, 64, 256, 256) 36928       conv2d_15[0][0]                  \n",
      "__________________________________________________________________________________________________\n",
      "batch_normalization_7 (BatchNor (None, 64, 256, 256) 256         conv2d_16[0][0]                  \n",
      "__________________________________________________________________________________________________\n",
      "up_sampling2d_4 (UpSampling2D)  (None, 64, 512, 512) 0           batch_normalization_7[0][0]      \n",
      "__________________________________________________________________________________________________\n",
      "concatenate_4 (Concatenate)     (None, 96, 512, 512) 0           up_sampling2d_4[0][0]            \n",
      "                                                                 conv2d_2[0][0]                   \n",
      "__________________________________________________________________________________________________\n",
      "conv2d_17 (Conv2D)              (None, 32, 512, 512) 27680       concatenate_4[0][0]              \n",
      "__________________________________________________________________________________________________\n",
      "conv2d_18 (Conv2D)              (None, 32, 512, 512) 9248        conv2d_17[0][0]                  \n",
      "__________________________________________________________________________________________________\n",
      "batch_normalization_8 (BatchNor (None, 32, 512, 512) 128         conv2d_18[0][0]                  \n",
      "__________________________________________________________________________________________________\n",
      "conv2d_19 (Conv2D)              (None, 1, 512, 512)  33          batch_normalization_8[0][0]      \n",
      "==================================================================================================\n",
      "Total params: 7,848,897\n",
      "Trainable params: 7,847,489\n",
      "Non-trainable params: 1,408\n",
      "__________________________________________________________________________________________________\n",
      "None\n"
     ]
    },
    {
     "name": "stderr",
     "output_type": "stream",
     "text": [
      "/Users/mulab_admin/anaconda2/lib/python2.7/site-packages/keras_preprocessing/image.py:763: UserWarning: This ImageDataGenerator specifies `zca_whitening` which overrides setting of`featurewise_std_normalization`.\n",
      "  warnings.warn('This ImageDataGenerator specifies '\n"
     ]
    },
    {
     "name": "stdout",
     "output_type": "stream",
     "text": [
      "Train on 53 samples, validate on 27 samples\n",
      "Epoch 1/300\n"
     ]
    },
    {
     "ename": "KeyboardInterrupt",
     "evalue": "",
     "output_type": "error",
     "traceback": [
      "\u001b[0;31m---------------------------------------------------------------------------\u001b[0m",
      "\u001b[0;31mKeyboardInterrupt\u001b[0m                         Traceback (most recent call last)",
      "\u001b[0;32m<ipython-input-8-fffcdf00cc33>\u001b[0m in \u001b[0;36m<module>\u001b[0;34m()\u001b[0m\n\u001b[1;32m     42\u001b[0m                             \u001b[0mbatch_size\u001b[0m\u001b[0;34m=\u001b[0m\u001b[0mbatch_size\u001b[0m\u001b[0;34m,\u001b[0m\u001b[0;34m\u001b[0m\u001b[0m\n\u001b[1;32m     43\u001b[0m                             \u001b[0mepochs\u001b[0m\u001b[0;34m=\u001b[0m\u001b[0mnb_initial_epochs\u001b[0m\u001b[0;34m,\u001b[0m\u001b[0;34m\u001b[0m\u001b[0m\n\u001b[0;32m---> 44\u001b[0;31m                             verbose=1, shuffle=True, callbacks=[tensorboard])\n\u001b[0m\u001b[1;32m     45\u001b[0m \u001b[0;34m\u001b[0m\u001b[0m\n\u001b[1;32m     46\u001b[0m \u001b[0;32melse\u001b[0m\u001b[0;34m:\u001b[0m\u001b[0;34m\u001b[0m\u001b[0m\n",
      "\u001b[0;32m/Users/mulab_admin/anaconda2/lib/python2.7/site-packages/keras/engine/training.pyc\u001b[0m in \u001b[0;36mfit\u001b[0;34m(self, x, y, batch_size, epochs, verbose, callbacks, validation_split, validation_data, shuffle, class_weight, sample_weight, initial_epoch, steps_per_epoch, validation_steps, **kwargs)\u001b[0m\n\u001b[1;32m   1040\u001b[0m                                         \u001b[0minitial_epoch\u001b[0m\u001b[0;34m=\u001b[0m\u001b[0minitial_epoch\u001b[0m\u001b[0;34m,\u001b[0m\u001b[0;34m\u001b[0m\u001b[0m\n\u001b[1;32m   1041\u001b[0m                                         \u001b[0msteps_per_epoch\u001b[0m\u001b[0;34m=\u001b[0m\u001b[0msteps_per_epoch\u001b[0m\u001b[0;34m,\u001b[0m\u001b[0;34m\u001b[0m\u001b[0m\n\u001b[0;32m-> 1042\u001b[0;31m                                         validation_steps=validation_steps)\n\u001b[0m\u001b[1;32m   1043\u001b[0m \u001b[0;34m\u001b[0m\u001b[0m\n\u001b[1;32m   1044\u001b[0m     def evaluate(self, x=None, y=None,\n",
      "\u001b[0;32m/Users/mulab_admin/anaconda2/lib/python2.7/site-packages/keras/engine/training_arrays.pyc\u001b[0m in \u001b[0;36mfit_loop\u001b[0;34m(model, f, ins, out_labels, batch_size, epochs, verbose, callbacks, val_f, val_ins, shuffle, callback_metrics, initial_epoch, steps_per_epoch, validation_steps)\u001b[0m\n\u001b[1;32m    197\u001b[0m                     \u001b[0mins_batch\u001b[0m\u001b[0;34m[\u001b[0m\u001b[0mi\u001b[0m\u001b[0;34m]\u001b[0m \u001b[0;34m=\u001b[0m \u001b[0mins_batch\u001b[0m\u001b[0;34m[\u001b[0m\u001b[0mi\u001b[0m\u001b[0;34m]\u001b[0m\u001b[0;34m.\u001b[0m\u001b[0mtoarray\u001b[0m\u001b[0;34m(\u001b[0m\u001b[0;34m)\u001b[0m\u001b[0;34m\u001b[0m\u001b[0m\n\u001b[1;32m    198\u001b[0m \u001b[0;34m\u001b[0m\u001b[0m\n\u001b[0;32m--> 199\u001b[0;31m                 \u001b[0mouts\u001b[0m \u001b[0;34m=\u001b[0m \u001b[0mf\u001b[0m\u001b[0;34m(\u001b[0m\u001b[0mins_batch\u001b[0m\u001b[0;34m)\u001b[0m\u001b[0;34m\u001b[0m\u001b[0m\n\u001b[0m\u001b[1;32m    200\u001b[0m                 \u001b[0;32mif\u001b[0m \u001b[0;32mnot\u001b[0m \u001b[0misinstance\u001b[0m\u001b[0;34m(\u001b[0m\u001b[0mouts\u001b[0m\u001b[0;34m,\u001b[0m \u001b[0mlist\u001b[0m\u001b[0;34m)\u001b[0m\u001b[0;34m:\u001b[0m\u001b[0;34m\u001b[0m\u001b[0m\n\u001b[1;32m    201\u001b[0m                     \u001b[0mouts\u001b[0m \u001b[0;34m=\u001b[0m \u001b[0;34m[\u001b[0m\u001b[0mouts\u001b[0m\u001b[0;34m]\u001b[0m\u001b[0;34m\u001b[0m\u001b[0m\n",
      "\u001b[0;32m/Users/mulab_admin/anaconda2/lib/python2.7/site-packages/keras/backend/tensorflow_backend.pyc\u001b[0m in \u001b[0;36m__call__\u001b[0;34m(self, inputs)\u001b[0m\n\u001b[1;32m   2665\u001b[0m                     \u001b[0;34m'In order to feed symbolic tensors to a Keras model '\u001b[0m\u001b[0;34m\u001b[0m\u001b[0m\n\u001b[1;32m   2666\u001b[0m                     'in TensorFlow, you need tensorflow 1.8 or higher.')\n\u001b[0;32m-> 2667\u001b[0;31m             \u001b[0;32mreturn\u001b[0m \u001b[0mself\u001b[0m\u001b[0;34m.\u001b[0m\u001b[0m_legacy_call\u001b[0m\u001b[0;34m(\u001b[0m\u001b[0minputs\u001b[0m\u001b[0;34m)\u001b[0m\u001b[0;34m\u001b[0m\u001b[0m\n\u001b[0m\u001b[1;32m   2668\u001b[0m \u001b[0;34m\u001b[0m\u001b[0m\n\u001b[1;32m   2669\u001b[0m \u001b[0;34m\u001b[0m\u001b[0m\n",
      "\u001b[0;32m/Users/mulab_admin/anaconda2/lib/python2.7/site-packages/keras/backend/tensorflow_backend.pyc\u001b[0m in \u001b[0;36m_legacy_call\u001b[0;34m(self, inputs)\u001b[0m\n\u001b[1;32m   2647\u001b[0m         \u001b[0msession\u001b[0m \u001b[0;34m=\u001b[0m \u001b[0mget_session\u001b[0m\u001b[0;34m(\u001b[0m\u001b[0;34m)\u001b[0m\u001b[0;34m\u001b[0m\u001b[0m\n\u001b[1;32m   2648\u001b[0m         updated = session.run(fetches=fetches, feed_dict=feed_dict,\n\u001b[0;32m-> 2649\u001b[0;31m                               **self.session_kwargs)\n\u001b[0m\u001b[1;32m   2650\u001b[0m         \u001b[0;32mreturn\u001b[0m \u001b[0mupdated\u001b[0m\u001b[0;34m[\u001b[0m\u001b[0;34m:\u001b[0m\u001b[0mlen\u001b[0m\u001b[0;34m(\u001b[0m\u001b[0mself\u001b[0m\u001b[0;34m.\u001b[0m\u001b[0moutputs\u001b[0m\u001b[0;34m)\u001b[0m\u001b[0;34m]\u001b[0m\u001b[0;34m\u001b[0m\u001b[0m\n\u001b[1;32m   2651\u001b[0m \u001b[0;34m\u001b[0m\u001b[0m\n",
      "\u001b[0;32m/Users/mulab_admin/anaconda2/lib/python2.7/site-packages/tensorflow/python/client/session.pyc\u001b[0m in \u001b[0;36mrun\u001b[0;34m(self, fetches, feed_dict, options, run_metadata)\u001b[0m\n\u001b[1;32m    893\u001b[0m     \u001b[0;32mtry\u001b[0m\u001b[0;34m:\u001b[0m\u001b[0;34m\u001b[0m\u001b[0m\n\u001b[1;32m    894\u001b[0m       result = self._run(None, fetches, feed_dict, options_ptr,\n\u001b[0;32m--> 895\u001b[0;31m                          run_metadata_ptr)\n\u001b[0m\u001b[1;32m    896\u001b[0m       \u001b[0;32mif\u001b[0m \u001b[0mrun_metadata\u001b[0m\u001b[0;34m:\u001b[0m\u001b[0;34m\u001b[0m\u001b[0m\n\u001b[1;32m    897\u001b[0m         \u001b[0mproto_data\u001b[0m \u001b[0;34m=\u001b[0m \u001b[0mtf_session\u001b[0m\u001b[0;34m.\u001b[0m\u001b[0mTF_GetBuffer\u001b[0m\u001b[0;34m(\u001b[0m\u001b[0mrun_metadata_ptr\u001b[0m\u001b[0;34m)\u001b[0m\u001b[0;34m\u001b[0m\u001b[0m\n",
      "\u001b[0;32m/Users/mulab_admin/anaconda2/lib/python2.7/site-packages/tensorflow/python/client/session.pyc\u001b[0m in \u001b[0;36m_run\u001b[0;34m(self, handle, fetches, feed_dict, options, run_metadata)\u001b[0m\n\u001b[1;32m   1122\u001b[0m     \u001b[0;32mif\u001b[0m \u001b[0mfinal_fetches\u001b[0m \u001b[0;32mor\u001b[0m \u001b[0mfinal_targets\u001b[0m \u001b[0;32mor\u001b[0m \u001b[0;34m(\u001b[0m\u001b[0mhandle\u001b[0m \u001b[0;32mand\u001b[0m \u001b[0mfeed_dict_tensor\u001b[0m\u001b[0;34m)\u001b[0m\u001b[0;34m:\u001b[0m\u001b[0;34m\u001b[0m\u001b[0m\n\u001b[1;32m   1123\u001b[0m       results = self._do_run(handle, final_targets, final_fetches,\n\u001b[0;32m-> 1124\u001b[0;31m                              feed_dict_tensor, options, run_metadata)\n\u001b[0m\u001b[1;32m   1125\u001b[0m     \u001b[0;32melse\u001b[0m\u001b[0;34m:\u001b[0m\u001b[0;34m\u001b[0m\u001b[0m\n\u001b[1;32m   1126\u001b[0m       \u001b[0mresults\u001b[0m \u001b[0;34m=\u001b[0m \u001b[0;34m[\u001b[0m\u001b[0;34m]\u001b[0m\u001b[0;34m\u001b[0m\u001b[0m\n",
      "\u001b[0;32m/Users/mulab_admin/anaconda2/lib/python2.7/site-packages/tensorflow/python/client/session.pyc\u001b[0m in \u001b[0;36m_do_run\u001b[0;34m(self, handle, target_list, fetch_list, feed_dict, options, run_metadata)\u001b[0m\n\u001b[1;32m   1319\u001b[0m     \u001b[0;32mif\u001b[0m \u001b[0mhandle\u001b[0m \u001b[0;32mis\u001b[0m \u001b[0mNone\u001b[0m\u001b[0;34m:\u001b[0m\u001b[0;34m\u001b[0m\u001b[0m\n\u001b[1;32m   1320\u001b[0m       return self._do_call(_run_fn, self._session, feeds, fetches, targets,\n\u001b[0;32m-> 1321\u001b[0;31m                            options, run_metadata)\n\u001b[0m\u001b[1;32m   1322\u001b[0m     \u001b[0;32melse\u001b[0m\u001b[0;34m:\u001b[0m\u001b[0;34m\u001b[0m\u001b[0m\n\u001b[1;32m   1323\u001b[0m       \u001b[0;32mreturn\u001b[0m \u001b[0mself\u001b[0m\u001b[0;34m.\u001b[0m\u001b[0m_do_call\u001b[0m\u001b[0;34m(\u001b[0m\u001b[0m_prun_fn\u001b[0m\u001b[0;34m,\u001b[0m \u001b[0mself\u001b[0m\u001b[0;34m.\u001b[0m\u001b[0m_session\u001b[0m\u001b[0;34m,\u001b[0m \u001b[0mhandle\u001b[0m\u001b[0;34m,\u001b[0m \u001b[0mfeeds\u001b[0m\u001b[0;34m,\u001b[0m \u001b[0mfetches\u001b[0m\u001b[0;34m)\u001b[0m\u001b[0;34m\u001b[0m\u001b[0m\n",
      "\u001b[0;32m/Users/mulab_admin/anaconda2/lib/python2.7/site-packages/tensorflow/python/client/session.pyc\u001b[0m in \u001b[0;36m_do_call\u001b[0;34m(self, fn, *args)\u001b[0m\n\u001b[1;32m   1325\u001b[0m   \u001b[0;32mdef\u001b[0m \u001b[0m_do_call\u001b[0m\u001b[0;34m(\u001b[0m\u001b[0mself\u001b[0m\u001b[0;34m,\u001b[0m \u001b[0mfn\u001b[0m\u001b[0;34m,\u001b[0m \u001b[0;34m*\u001b[0m\u001b[0margs\u001b[0m\u001b[0;34m)\u001b[0m\u001b[0;34m:\u001b[0m\u001b[0;34m\u001b[0m\u001b[0m\n\u001b[1;32m   1326\u001b[0m     \u001b[0;32mtry\u001b[0m\u001b[0;34m:\u001b[0m\u001b[0;34m\u001b[0m\u001b[0m\n\u001b[0;32m-> 1327\u001b[0;31m       \u001b[0;32mreturn\u001b[0m \u001b[0mfn\u001b[0m\u001b[0;34m(\u001b[0m\u001b[0;34m*\u001b[0m\u001b[0margs\u001b[0m\u001b[0;34m)\u001b[0m\u001b[0;34m\u001b[0m\u001b[0m\n\u001b[0m\u001b[1;32m   1328\u001b[0m     \u001b[0;32mexcept\u001b[0m \u001b[0merrors\u001b[0m\u001b[0;34m.\u001b[0m\u001b[0mOpError\u001b[0m \u001b[0;32mas\u001b[0m \u001b[0me\u001b[0m\u001b[0;34m:\u001b[0m\u001b[0;34m\u001b[0m\u001b[0m\n\u001b[1;32m   1329\u001b[0m       \u001b[0mmessage\u001b[0m \u001b[0;34m=\u001b[0m \u001b[0mcompat\u001b[0m\u001b[0;34m.\u001b[0m\u001b[0mas_text\u001b[0m\u001b[0;34m(\u001b[0m\u001b[0me\u001b[0m\u001b[0;34m.\u001b[0m\u001b[0mmessage\u001b[0m\u001b[0;34m)\u001b[0m\u001b[0;34m\u001b[0m\u001b[0m\n",
      "\u001b[0;32m/Users/mulab_admin/anaconda2/lib/python2.7/site-packages/tensorflow/python/client/session.pyc\u001b[0m in \u001b[0;36m_run_fn\u001b[0;34m(session, feed_dict, fetch_list, target_list, options, run_metadata)\u001b[0m\n\u001b[1;32m   1304\u001b[0m           return tf_session.TF_Run(session, options,\n\u001b[1;32m   1305\u001b[0m                                    \u001b[0mfeed_dict\u001b[0m\u001b[0;34m,\u001b[0m \u001b[0mfetch_list\u001b[0m\u001b[0;34m,\u001b[0m \u001b[0mtarget_list\u001b[0m\u001b[0;34m,\u001b[0m\u001b[0;34m\u001b[0m\u001b[0m\n\u001b[0;32m-> 1306\u001b[0;31m                                    status, run_metadata)\n\u001b[0m\u001b[1;32m   1307\u001b[0m \u001b[0;34m\u001b[0m\u001b[0m\n\u001b[1;32m   1308\u001b[0m     \u001b[0;32mdef\u001b[0m \u001b[0m_prun_fn\u001b[0m\u001b[0;34m(\u001b[0m\u001b[0msession\u001b[0m\u001b[0;34m,\u001b[0m \u001b[0mhandle\u001b[0m\u001b[0;34m,\u001b[0m \u001b[0mfeed_dict\u001b[0m\u001b[0;34m,\u001b[0m \u001b[0mfetch_list\u001b[0m\u001b[0;34m)\u001b[0m\u001b[0;34m:\u001b[0m\u001b[0;34m\u001b[0m\u001b[0m\n",
      "\u001b[0;31mKeyboardInterrupt\u001b[0m: "
     ]
    }
   ],
   "source": [
    "# (1) Initialize model\n",
    "model = unet_full_bn(dropout=True)\n",
    "reset_weights(model)\n",
    "\n",
    "print(model.summary())\n",
    "\n",
    "params = get_params(img_rows, img_cols, nb_total, nb_train, nb_labeled, nb_unlabeled, apply_edt, nb_iterations, \n",
    "               nb_step_predictions, initial_train, nb_initial_epochs, nb_active_epochs, batch_size, \n",
    "              learning_rate, decay_rate, apply_augmentation,  featurewise_center, featurewise_std_normalization, \n",
    "              rotation_range, horizontal_flip, vertical_flip, zca_whitening, rescale, channel_shift_range, zoom_range )\n",
    "\n",
    "# data augmentation\n",
    "train_generator = data_generator().flow(X_train[labeled_index], y_train[labeled_index],\n",
    "                                      batch_size=batch_size, \n",
    "                                      shuffle=True)\n",
    "\n",
    "val_generator = data_generator().flow(X_valid, y_valid,\n",
    "                                      batch_size=batch_size, \n",
    "                                      shuffle=True)\n",
    "\n",
    "# training\n",
    "if initial_train:\n",
    "    model_checkpoint = ModelCheckpoint(initial_weights_path, monitor='loss', save_best_only=True)\n",
    "\n",
    "    if apply_augmentation:\n",
    "        timestamp = format(time.strftime('%m%d_%H%M_%S'))\n",
    "        tensorboard = TensorBoard(log_dir = str(\"logs/\" + str(timestamp)))\n",
    "        save_parameters(timestamp, params)\n",
    "        \n",
    "        history = model.fit_generator(train_generator, \n",
    "                                      validation_data=val_generator,\n",
    "                                    epochs=nb_initial_epochs, verbose=1, callbacks=[tensorboard])\n",
    "        \n",
    "        model.save(initial_weights_path)\n",
    "   \n",
    "    else:\n",
    "        timestamp = format(time.strftime('%m%d_%H%M_%S'))\n",
    "        tensorboard = TensorBoard(log_dir = str(\"logs/\" + str(timestamp)))\n",
    "        #save_parameters(timestamp, params)\n",
    "        \n",
    "        history = model.fit(X_train[labeled_index], y_train[labeled_index], validation_data=(X_valid, y_valid),\n",
    "                            batch_size=batch_size, \n",
    "                            epochs=nb_initial_epochs,\n",
    "                            verbose=1, shuffle=True, callbacks=[tensorboard])\n",
    "\n",
    "else:\n",
    "    model.load_weights(initial_weights_path)\n",
    "    \n",
    "print(\"Saving model...\\n\")   \n",
    "model.save(final_weights_path)\n",
    "\n",
    "\n",
    "\n",
    "# uncertainty computation\n",
    "\n",
    "weights = final_weights_path\n",
    "modelUncertain = unet_full_bn(dropout=True)\n",
    "modelUncertain.load_weights(weights)\n",
    "\n",
    "uncertain = np.zeros(len(X_test))\n",
    "accuracy = np.zeros(len(X_test))\n",
    "uncertain_map = []\n",
    "\n",
    "print(\"Computing log predictions ...\\n\")\n",
    "predictions = predict(X_test, model)\n",
    "\n",
    "for i in range(len(X_test)):\n",
    "    sample = X_test[i].reshape([1, 1, img_rows, img_cols])\n",
    "    sample_prediction = cv2.threshold(predictions[i], 0.5, 1, cv2.THRESH_BINARY)[1].astype('uint8')\n",
    "    accuracy[i] = compute_dice_coef(y_train[i][0], sample_prediction)\n",
    "    uncertain[i] = compute_uncertain(sample, sample_prediction, modelUncertain)\n",
    "    uncertain_map_i = compute_uncertain_map(sample, sample_prediction, modelUncertain)\n",
    "    uncertain_map.append(uncertain_map_i)\n",
    "    \n",
    "    \n",
    "uncertain_map_array = np.asarray(uncertain_map)\n",
    "print(uncertain_map_array.shape)\n",
    "print(\"Done\")"
   ]
  },
  {
   "cell_type": "code",
   "execution_count": null,
   "metadata": {},
   "outputs": [],
   "source": [
    "# Plot predictions and uncertainty map for 2 samples \n",
    "\n",
    "plt.figure(figsize=(20,10))\n",
    "plt.subplot(221)\n",
    "plt.imshow(predictions[0][0,:,:])\n",
    "plt.title(\"Prediction sample 1\")\n",
    "plt.subplot(222)\n",
    "plt.imshow(uncertain_map_array[0])\n",
    "plt.title(\"Uncertainty map sample 1\")\n",
    "plt.subplot(223)\n",
    "plt.imshow(X_test[0][0,:,:])\n",
    "plt.title(\"Sample 1\")\n",
    "plt.subplot(224)\n",
    "plt.imshow(y_test[0][0,:,:])\n",
    "plt.title(\"Ground Truth sample 1\")\n",
    "plt.tight_layout()\n",
    "plt.show()\n",
    "\n",
    "# Plot predictions and uncertainty map for 2 samples\n",
    "\n",
    "plt.figure(figsize=(20,10))\n",
    "plt.subplot(221)\n",
    "plt.imshow(predictions[1][0,:,:])\n",
    "plt.title(\"Prediction sample 2\")\n",
    "plt.subplot(222)\n",
    "plt.imshow(uncertain_map_array[1])\n",
    "plt.title(\"Uncertainty map sample 2\")\n",
    "plt.subplot(223)\n",
    "plt.imshow(X_test[1][0,:,:])\n",
    "plt.title(\"Sample 2\")\n",
    "plt.subplot(224)\n",
    "plt.imshow(y_test[1][0,:,:])\n",
    "plt.title(\"Ground Truth sample 2\")\n",
    "plt.tight_layout()\n",
    "plt.show()\n"
   ]
  },
  {
   "cell_type": "code",
   "execution_count": null,
   "metadata": {},
   "outputs": [],
   "source": [
    "imsave('prediction.png', predictions[0][0,:,:])\n",
    "imsave('uncertainty_map.png', uncertain_map_array[0])\n",
    "\n",
    "imsave('sample.png', X_test[0][0,:,:])\n",
    "imsave('mask.png', y_test[0][0,:,:])"
   ]
  },
  {
   "cell_type": "code",
   "execution_count": null,
   "metadata": {},
   "outputs": [],
   "source": [
    "X_test[0][0,:,:].shape"
   ]
  },
  {
   "cell_type": "code",
   "execution_count": null,
   "metadata": {},
   "outputs": [],
   "source": [
    "pwd"
   ]
  },
  {
   "cell_type": "code",
   "execution_count": null,
   "metadata": {},
   "outputs": [],
   "source": [
    "def data_generator(fill_mode ='reflect', featurewise_center = False, featurewise_std_normalization = False, \n",
    "                      rotation_range = 0.0 , horizontal_flip = False, vertical_flip = False, \n",
    "                      zca_whitening = False, zca_epsilon = 1e-6, rescale = None, zoom_range = 0.0, \n",
    "                      channel_shift_range = 0 , brightness_range=None, shear_range=0.0 ):\n",
    "    \"\"\"\n",
    "    :return: Keras data generator. Data augmentation parameters.\n",
    "    \"\"\"\n",
    "    return ImageDataGenerator(\n",
    "        fill_mode = fill_mode,\n",
    "        featurewise_center = featurewise_center,\n",
    "        featurewise_std_normalization = featurewise_std_normalization,\n",
    "        rotation_range = rotation_range, \n",
    "        horizontal_flip = horizontal_flip,\n",
    "        vertical_flip = vertical_flip,\n",
    "        zca_whitening = zca_whitening, \n",
    "        zca_epsilon = zca_epsilon, \n",
    "        rescale = rescale, \n",
    "        zoom_range = zoom_range, \n",
    "        channel_shift_range = channel_shift_range, \n",
    "        brightness_range=None, shear_range=0.0\n",
    "    )"
   ]
  },
  {
   "cell_type": "code",
   "execution_count": null,
   "metadata": {},
   "outputs": [],
   "source": [
    "X_da = X_train[:2]\n",
    "y_da = y_train[:2]"
   ]
  },
  {
   "cell_type": "code",
   "execution_count": null,
   "metadata": {},
   "outputs": [],
   "source": [
    "sample = X_da[0]"
   ]
  },
  {
   "cell_type": "markdown",
   "metadata": {},
   "source": []
  },
  {
   "cell_type": "code",
   "execution_count": null,
   "metadata": {},
   "outputs": [],
   "source": [
    "gen1 = data_generator(fill_mode ='reflect', featurewise_center = False, featurewise_std_normalization = False, \n",
    "                      rotation_range = 0 , horizontal_flip = False, vertical_flip = False, \n",
    "                      zca_whitening = False, zca_epsilon = 1e-6, rescale = None, zoom_range = 0.0, \n",
    "                      channel_shift_range = 0 , brightness_range=None, shear_range=0.0)\n",
    "# rotation range\n",
    "gen2 = data_generator(fill_mode ='reflect', featurewise_center = False, featurewise_std_normalization = False, \n",
    "                      rotation_range = 80.0 , horizontal_flip = False, vertical_flip = False, \n",
    "                      zca_whitening = False, zca_epsilon = 1e-6, rescale = None, zoom_range = 0.0, \n",
    "                      channel_shift_range = 0 , brightness_range=None, shear_range=0.0)\n",
    "\n",
    "# feature wise center and std norm\n",
    "gen3 = data_generator(fill_mode ='reflect', featurewise_center = True, featurewise_std_normalization = True, \n",
    "                      rotation_range = 0 , horizontal_flip = False, vertical_flip = False, \n",
    "                      zca_whitening = False, zca_epsilon = 1e-6, rescale = None, zoom_range = 0.0, \n",
    "                      channel_shift_range = 0 , brightness_range=None, shear_range=0.0)\n",
    "\n",
    "# zca whitening & flip\n",
    "gen4 = data_generator(fill_mode ='reflect', featurewise_center = False, featurewise_std_normalization = False, \n",
    "                      rotation_range = 0 , horizontal_flip = True, vertical_flip = True, \n",
    "                      zca_whitening = True, zca_epsilon = 1e-2, rescale = None, zoom_range = 0.0, \n",
    "                      channel_shift_range = 0 , brightness_range=None, shear_range=0.0)\n",
    "\n",
    "# brightness range\n",
    "gen5 = data_generator(fill_mode ='reflect', featurewise_center = False, featurewise_std_normalization = False, \n",
    "                      rotation_range = 0 , horizontal_flip = False, vertical_flip = False, \n",
    "                      zca_whitening = False, zca_epsilon = 1e-6, rescale = None, zoom_range = 0.0, \n",
    "                      channel_shift_range = 0 , brightness_range=10, shear_range=0.0)\n",
    "\n",
    "# Zoom Range and channel shift \n",
    "gen6 = data_generator(fill_mode ='reflect', featurewise_center = False, featurewise_std_normalization = False, \n",
    "                      rotation_range = 0 , horizontal_flip = False, vertical_flip = False, \n",
    "                      zca_whitening = False, zca_epsilon = 1e-6, rescale = None, zoom_range = 0.2, \n",
    "                      channel_shift_range = 10 , brightness_range=None, shear_range=0.0)\n",
    "\n",
    "# shear range\n",
    "gen7 = data_generator(fill_mode ='reflect', featurewise_center = False, featurewise_std_normalization = False, \n",
    "                      rotation_range = 0 , horizontal_flip = False, vertical_flip = False, \n",
    "                      zca_whitening = False, zca_epsilon = 1e-6, rescale = None, zoom_range = 0.0, \n",
    "                      channel_shift_range = 0 , brightness_range=0, shear_range=45)\n",
    "\n",
    "# zoom range\n",
    "gen8 = data_generator(fill_mode ='nearest', featurewise_center = False, featurewise_std_normalization = False, \n",
    "                      rotation_range = 80 , horizontal_flip = False, vertical_flip = False, \n",
    "                      zca_whitening = False, zca_epsilon = 1e-6, rescale = 10, zoom_range = 0.5, \n",
    "                      channel_shift_range = 0 , brightness_range=2, shear_range=0.2)\n",
    "\n",
    "# shear range\n",
    "gen9 = data_generator(fill_mode ='reflect', featurewise_center = True, featurewise_std_normalization = True, \n",
    "                      rotation_range = 20 , horizontal_flip = True, vertical_flip = True, \n",
    "                      zca_whitening = True, zca_epsilon = 1e-6, rescale = None, zoom_range = 0.2, \n",
    "                      channel_shift_range = 5, brightness_range=0, shear_range=0)"
   ]
  },
  {
   "cell_type": "code",
   "execution_count": null,
   "metadata": {},
   "outputs": [],
   "source": [
    "X_da[0].shape"
   ]
  },
  {
   "cell_type": "code",
   "execution_count": null,
   "metadata": {},
   "outputs": [],
   "source": [
    "generators = [gen1, gen2, gen3, gen4, gen5, gen6, gen7, gen8, gen9]\n",
    "X = np.zeros((10, 1, 512, 512))\n",
    "y = np.zeros((10, 1, 512, 512))\n",
    "i = 0\n",
    "\n",
    "for gen in generators:\n",
    "    train_generator = gen.flow(X_da, seed = 2, shuffle=False)\n",
    "    train_mask_generator = gen.flow(y_da, seed = 2, shuffle=False)\n",
    "    X[i] = train_generator[0][0]\n",
    "    y[i] = train_mask_generator[0][0]\n",
    "    i = i+1\n",
    "    \n",
    "X[9] = elastic_transform(X_da[0], X_da.shape[2] * 5, X_da.shape[2] * 0.08, X_da.shape[2] * 0.08)\n",
    "y[9] = elastic_transform(y_da[0], y_da.shape[2] * 5, y_da.shape[2] * 0.08, y_da.shape[2] * 0.08)"
   ]
  },
  {
   "cell_type": "code",
   "execution_count": null,
   "metadata": {},
   "outputs": [],
   "source": [
    "plt.figure(figsize=(15,15))\n",
    "plt.subplot(331)\n",
    "plt.imshow(X[9][0, :, :], cmap=plt.get_cmap('gray'))\n",
    "plt.title(\"Elastic transformation\")\n",
    "plt.subplot(332)\n",
    "plt.imshow(X[1].reshape(512, 512), cmap=plt.get_cmap('gray'))\n",
    "plt.title(\"Rotation\")\n",
    "plt.subplot(333)\n",
    "plt.imshow(X[2].reshape(512, 512), cmap=plt.get_cmap('gray'))\n",
    "plt.title(\"Featurewise center and std normalization\")\n",
    "plt.subplot(334)\n",
    "plt.imshow(X[3].reshape(512, 512), cmap=plt.get_cmap('gray'))\n",
    "plt.title(\"zca whitening and horizontal/vertical flip\")\n",
    "plt.subplot(335)\n",
    "plt.imshow(X[4].reshape(512, 512), cmap=plt.get_cmap('gray'))\n",
    "plt.title(\"brightness range\")\n",
    "plt.subplot(336)\n",
    "plt.imshow(X[5].reshape(512, 512), cmap=plt.get_cmap('gray'))\n",
    "plt.title(\"zoom range and channel shift\")\n",
    "plt.subplot(337)\n",
    "plt.imshow(X[6].reshape(512, 512), cmap=plt.get_cmap('gray'))\n",
    "plt.title(\"shear range\")\n",
    "plt.subplot(338)\n",
    "plt.imshow(X[7].reshape(512, 512), cmap=plt.get_cmap('gray'))\n",
    "plt.title(\"zoom range\")\n",
    "plt.subplot(339)\n",
    "plt.imshow(X[8].reshape(512, 512), cmap=plt.get_cmap('gray'))\n",
    "plt.title(\"All\")\n",
    "plt.show()"
   ]
  },
  {
   "cell_type": "code",
   "execution_count": null,
   "metadata": {},
   "outputs": [],
   "source": [
    "def elastic_transform(image, alpha, sigma, alpha_affine, random_state=None):\n",
    "    \"\"\"Elastic deformation of images as described in [Simard2003]_ (with modifications).\n",
    "    .. [Simard2003] Simard, Steinkraus and Platt, \"Best Practices for\n",
    "         Convolutional Neural Networks applied to Visual Document Analysis\", in\n",
    "         Proc. of the International Conference on Document Analysis and\n",
    "         Recognition, 2003.\n",
    "\n",
    "     Based on https://gist.github.com/erniejunior/601cdf56d2b424757de5\n",
    "    \"\"\"\n",
    "    if random_state is None:\n",
    "        random_state = np.random.RandomState(None)\n",
    "\n",
    "    shape = image.shape\n",
    "    shape_size = shape[1:]\n",
    "    \n",
    "    # Random affine\n",
    "    center_square = np.float32(shape_size) // 2\n",
    "    square_size = min(shape_size) // 3\n",
    "    pts1 = np.float32([center_square + square_size, [center_square[0]+square_size, center_square[1]-square_size], center_square - square_size])\n",
    "    pts2 = pts1 + random_state.uniform(-alpha_affine, alpha_affine, size=pts1.shape).astype(np.float32)\n",
    "    M = cv2.getAffineTransform(pts1, pts2)\n",
    "    image = cv2.warpAffine(image, M, shape_size[::-1], borderMode=cv2.BORDER_REFLECT_101)\n",
    "\n",
    "    dx = gaussian_filter((random_state.rand(*shape) * 2 - 1), sigma) * alpha\n",
    "    dy = gaussian_filter((random_state.rand(*shape) * 2 - 1), sigma) * alpha\n",
    "    dz = np.zeros_like(dx)\n",
    "\n",
    "    x, y, z = np.meshgrid(np.arange(shape[1]), np.arange(shape[0]), np.arange(shape[2]))\n",
    "    indices = np.reshape(y+dy, (-1, 1)), np.reshape(x+dx, (-1, 1)), np.reshape(z, (-1, 1))\n",
    "\n",
    "    return map_coordinates(image, indices, order=1, mode='reflect').reshape(shape)"
   ]
  },
  {
   "cell_type": "code",
   "execution_count": null,
   "metadata": {},
   "outputs": [],
   "source": [
    "sample"
   ]
  },
  {
   "cell_type": "code",
   "execution_count": null,
   "metadata": {},
   "outputs": [],
   "source": [
    "elastic = elastic_transform(X_da[0], sample.shape[2] * 15, sample.shape[2] * 0.08, sample.shape[2] * 0.08)\n",
    "elastic.shape"
   ]
  },
  {
   "cell_type": "code",
   "execution_count": null,
   "metadata": {},
   "outputs": [],
   "source": [
    "plt.imshow(elastic[0, :, :])"
   ]
  },
  {
   "cell_type": "code",
   "execution_count": null,
   "metadata": {},
   "outputs": [],
   "source": [
    "X_da.shape[2]"
   ]
  },
  {
   "cell_type": "code",
   "execution_count": null,
   "metadata": {
    "scrolled": false
   },
   "outputs": [],
   "source": [
    "# configure batch size and retrieve one batch of images\n",
    "for i in range(0,3):\n",
    "    plt.figure(figsize=(15,15))\n",
    "    plt.subplot(320 + (2*i +1))\n",
    "    plt.imshow(X[i].reshape(512, 512))\n",
    "    print(i,  2*i + 1,  2*i+2 )\n",
    "    plt.subplot(320 + (2*i+2) )\n",
    "    plt.imshow(y[i].reshape(512, 512), cmap=plt.get_cmap('gray'))\n",
    "# show the plot\n",
    "plt.show()"
   ]
  },
  {
   "cell_type": "code",
   "execution_count": null,
   "metadata": {},
   "outputs": [],
   "source": [
    "# data augmentation\n",
    "\n",
    "datagen = data_generator()\n",
    "\n",
    "datagen.fit(X_train)\n",
    "\n",
    "train_generator = gen1.flow(X_da, seed = 2, shuffle=False)\n",
    "train_mask_generator = gen1.flow(y_da, seed = 2, shuffle=False)\n",
    "\n",
    "\n",
    "\n",
    "val_generator = datagen.flow(X_valid, seed = 2, \n",
    "                                      batch_size=12, \n",
    "                                      shuffle=False)\n",
    "\n",
    "val_mask_generator = datagen.flow(y_valid, seed = 2, \n",
    "                                      batch_size=12, \n",
    "                                      shuffle=False)"
   ]
  },
  {
   "cell_type": "code",
   "execution_count": null,
   "metadata": {},
   "outputs": [],
   "source": [
    "# configure batch size and retrieve one batch of images\n",
    "for X_batch, y_batch in zip(train_generator, train_mask_generator):\n",
    "    plt.figure(figsize=(15,7))\n",
    "    print(X_batch.shape)\n",
    "    for i in range(0, 2):\n",
    "        plt.subplot(240 + 2*i +1)\n",
    "        plt.imshow(X_batch[0].reshape(512, 512), cmap=plt.get_cmap('gray'))\n",
    "        plt.subplot(240 + 2*i + 2)\n",
    "        plt.imshow(y_batch[0].reshape(512, 512), cmap=plt.get_cmap('gray'))\n",
    "# show the plot\n",
    "    plt.show()\n",
    "    break\n",
    "    \n",
    "    "
   ]
  },
  {
   "cell_type": "code",
   "execution_count": null,
   "metadata": {},
   "outputs": [],
   "source": [
    "# configure batch size and retrieve one batch of images\n",
    "for X_batch, y_batch in zip(train_generator, train_mask_generator):\n",
    "    plt.figure(figsize=(10,15))\n",
    "    print(X_batch.shape)\n",
    "    for i in range(0, 3):\n",
    "        plt.subplot(320 + 2*i +1)\n",
    "        plt.imshow(X_batch[i].reshape(512, 512), cmap=plt.get_cmap('gray'))\n",
    "        plt.subplot(320 + 2*i + 2)\n",
    "        plt.imshow(y_batch[i].reshape(512, 512), cmap=plt.get_cmap('gray'))\n",
    "# show the plot\n",
    "    plt.show()\n",
    "    break"
   ]
  },
  {
   "cell_type": "code",
   "execution_count": null,
   "metadata": {},
   "outputs": [],
   "source": [
    "def plotImages( images_arr, n_images=4):\n",
    "    fig, axes = plt.subplots(n_images, n_images, figsize=(12,12))\n",
    "    axes = axes.flatten()\n",
    "    for img, ax in zip( images_arr, axes):\n",
    "        if img.ndim != 2:\n",
    "            img = img.reshape( (SIZE,SIZE))\n",
    "        ax.imshow( img, cmap=\"Greys_r\")\n",
    "        ax.set_xticks(())\n",
    "        ax.set_yticks(())\n",
    "    plt.tight_layout()"
   ]
  },
  {
   "cell_type": "code",
   "execution_count": null,
   "metadata": {},
   "outputs": [],
   "source": [
    "print(\"Computing log predictions ...\\n\")\n",
    "predictions = predict(X_test, model)"
   ]
  },
  {
   "cell_type": "code",
   "execution_count": null,
   "metadata": {},
   "outputs": [],
   "source": [
    "X_test.shape"
   ]
  },
  {
   "cell_type": "code",
   "execution_count": null,
   "metadata": {},
   "outputs": [],
   "source": [
    "compute_dice_coef(predictions[0], y_test[0])"
   ]
  },
  {
   "cell_type": "code",
   "execution_count": null,
   "metadata": {},
   "outputs": [],
   "source": [
    "plt.imshow(predictions[0][0,:,:])"
   ]
  },
  {
   "cell_type": "code",
   "execution_count": null,
   "metadata": {},
   "outputs": [],
   "source": [
    "path_img_valid"
   ]
  },
  {
   "cell_type": "code",
   "execution_count": null,
   "metadata": {},
   "outputs": [],
   "source": [
    "# CEAL data definition\n",
    "X_valid, y_valid = load_data(path_img_valid, path_mask_valid)\n",
    "print(\"*************Xvalid.shape***********\", X_valid.shape)"
   ]
  },
  {
   "cell_type": "code",
   "execution_count": null,
   "metadata": {},
   "outputs": [],
   "source": [
    "X_test = X_valid[-2:]\n",
    "y_test = y_valid[-2:]"
   ]
  },
  {
   "cell_type": "code",
   "execution_count": null,
   "metadata": {},
   "outputs": [],
   "source": [
    "plt.imshow(X_test[0][0,:,:])"
   ]
  },
  {
   "cell_type": "code",
   "execution_count": null,
   "metadata": {},
   "outputs": [],
   "source": []
  }
 ],
 "metadata": {
  "kernelspec": {
   "display_name": "Python 2",
   "language": "python",
   "name": "python2"
  },
  "language_info": {
   "codemirror_mode": {
    "name": "ipython",
    "version": 2
   },
   "file_extension": ".py",
   "mimetype": "text/x-python",
   "name": "python",
   "nbconvert_exporter": "python",
   "pygments_lexer": "ipython2",
   "version": "2.7.15"
  }
 },
 "nbformat": 4,
 "nbformat_minor": 2
}
