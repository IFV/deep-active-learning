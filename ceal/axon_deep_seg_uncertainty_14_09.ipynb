{
 "cells": [
  {
   "cell_type": "code",
   "execution_count": 1,
   "metadata": {},
   "outputs": [
    {
     "name": "stderr",
     "output_type": "stream",
     "text": [
      "Using TensorFlow backend.\n"
     ]
    }
   ],
   "source": [
    "from utils import *\n",
    "from constants import *\n",
    "from networks import *\n",
    "\n",
    "import json\n",
    "import os\n",
    "import matplotlib.pyplot as plt\n",
    "import numpy as np\n"
   ]
  },
  {
   "cell_type": "code",
   "execution_count": 2,
   "metadata": {},
   "outputs": [
    {
     "ename": "NameError",
     "evalue": "name 'networks' is not defined",
     "output_type": "error",
     "traceback": [
      "\u001b[0;31m---------------------------------------------------------------------------\u001b[0m",
      "\u001b[0;31mNameError\u001b[0m                                 Traceback (most recent call last)",
      "\u001b[0;32m<ipython-input-2-4ab503df2ec3>\u001b[0m in \u001b[0;36m<module>\u001b[0;34m()\u001b[0m\n\u001b[1;32m      1\u001b[0m \u001b[0mreload\u001b[0m\u001b[0;34m(\u001b[0m\u001b[0mutils\u001b[0m\u001b[0;34m)\u001b[0m\u001b[0;34m\u001b[0m\u001b[0m\n\u001b[1;32m      2\u001b[0m \u001b[0;34m\u001b[0m\u001b[0m\n\u001b[0;32m----> 3\u001b[0;31m \u001b[0mreload\u001b[0m\u001b[0;34m(\u001b[0m\u001b[0mnetworks\u001b[0m\u001b[0;34m)\u001b[0m\u001b[0;34m\u001b[0m\u001b[0m\n\u001b[0m",
      "\u001b[0;31mNameError\u001b[0m: name 'networks' is not defined"
     ]
    }
   ],
   "source": [
    "reload(utils)\n",
    "\n",
    "reload(networks)"
   ]
  },
  {
   "cell_type": "markdown",
   "metadata": {},
   "source": [
    "### Constants"
   ]
  },
  {
   "cell_type": "code",
   "execution_count": 3,
   "metadata": {},
   "outputs": [],
   "source": [
    "##### constants ######\n",
    "\n",
    "\n",
    "# PATH definition\n",
    "initial_weights_path = \"./models/initial_weights.hdf5\"\n",
    "final_weights_path = \"./models/output_weights_batch_norm.hdf5\"\n",
    "\n",
    "param_path = \"./\"\n",
    "\n",
    "# Data definition\n",
    "# image dimension (array)\n",
    "img_rows = 512\n",
    "img_cols = 512\n",
    "\n",
    "\n",
    "nb_total = 69 # total number of img\n",
    "nb_train = 53 # number of train img\n",
    "nb_labeled = 53 # number of labeled image\n",
    "nb_unlabeled = nb_train - nb_labeled # number of unlabeled images\n",
    "\n",
    "# CEAL parameters\n",
    "apply_edt = False\n",
    "nb_iterations = 1 # number of active iteration\n",
    "\n",
    "nb_step_predictions = 10\n",
    "\n",
    "# For sample selection to present to the oracle\n",
    "nb_no_detections = 1 # number of samples in the histogram area with accuracy = 0 (no detection)\n",
    "nb_random = 1 # number of randomly selected samples\n",
    "nb_most_uncertain = 1 # number of samples selected in the most uncertain area (highest uncertainty)\n",
    "most_uncertain_rate = 1 # threshold to define the most uncertain area. \n",
    "\n",
    "# this 2+2+2 samples are presented to oracle for annotation\n",
    "\n",
    "pseudo_epoch = 5\n",
    "nb_pseudo_initial = 1\n",
    "pseudo_rate = 2\n",
    "\n",
    "initial_train = True\n",
    "nb_initial_epochs = 15\n",
    "nb_active_epochs = 2\n",
    "batch_size = 10\n",
    "steps_per_epoch = nb_labeled / batch_size\n",
    "\n",
    "apply_augmentation = True\n",
    "featurewise_center = False\n",
    "featurewise_std_normalization= False\n",
    "rotation_range= 10\n",
    "horizontal_flip= True\n",
    "vertical_flip =True\n",
    "zca_whitening = False\n",
    "rescale = 1./255\n",
    "zoom_range= 0.2\n",
    "channel_shift_range = 0.2\n",
    "width_shift_range = 0.1\n",
    "height_shift_range = 0.1\n",
    "\n",
    "\n",
    "learning_rate = 1e-3\n",
    "decay_rate = learning_rate / nb_initial_epochs"
   ]
  },
  {
   "cell_type": "markdown",
   "metadata": {},
   "source": [
    "## U Net"
   ]
  },
  {
   "cell_type": "code",
   "execution_count": 4,
   "metadata": {},
   "outputs": [],
   "source": [
    "K.set_image_dim_ordering('th')  # Theano dimension ordering in this code\n",
    "smooth = 1.\n",
    "Dropout.call = call"
   ]
  },
  {
   "cell_type": "code",
   "execution_count": 12,
   "metadata": {},
   "outputs": [
    {
     "data": {
      "text/plain": [
       "u'/home/malub_local/activelearningADS'"
      ]
     },
     "execution_count": 12,
     "metadata": {},
     "output_type": "execute_result"
    }
   ],
   "source": [
    "pwd"
   ]
  },
  {
   "cell_type": "code",
   "execution_count": 7,
   "metadata": {},
   "outputs": [],
   "source": [
    "data_path = '../data/'\n",
    "\n",
    "path_img_train = data_path + 'images_69.npy'\n",
    "path_mask_train = data_path + 'masks_69.npy'\n",
    "\n",
    "path_img_valid = data_path + 'images_valid_29.npy'\n",
    "path_mask_valid = data_path + 'masks_valid_29.npy'\n",
    "\n",
    "\n",
    "path_img_test = data_path + 'images_test_1.npy'\n",
    "path_mask_test = data_path + 'masks_test_1.npy'\n",
    "\n",
    "\n",
    "#log_file = open(\"log_file_jupyter_myelin.txt\", 'a')"
   ]
  },
  {
   "cell_type": "code",
   "execution_count": 8,
   "metadata": {},
   "outputs": [
    {
     "name": "stdout",
     "output_type": "stream",
     "text": [
      "\n",
      "Loading data...\n",
      "\n",
      "('*************Xtrain.shape***********', (69, 1, 512, 512))\n",
      "\n",
      "Loading data...\n",
      "\n",
      "('*************Xvalid.shape***********', (29, 1, 512, 512))\n",
      "\n",
      "Loading data...\n",
      "\n",
      "('*************Xtest.shape***********', (1, 1, 512, 512))\n"
     ]
    }
   ],
   "source": [
    "X_train, y_train = load_data(path_img_train, path_mask_train )\n",
    "print(\"*************Xtrain.shape***********\", y_train.shape)\n",
    "labeled_index = np.arange(0, nb_labeled)\n",
    "unlabeled_index = np.arange(nb_labeled, len(X_train))\n",
    "\n",
    "\n",
    "# CEAL data definition\n",
    "X_valid, y_valid = load_data(path_img_valid, path_mask_valid)\n",
    "print(\"*************Xvalid.shape***********\", X_valid.shape)\n",
    "\n",
    "# CEAL data definition\n",
    "X_test, y_test = load_data(path_img_test, path_mask_test)\n",
    "print(\"*************Xtest.shape***********\", X_test.shape)\n"
   ]
  },
  {
   "cell_type": "code",
   "execution_count": 9,
   "metadata": {},
   "outputs": [
    {
     "name": "stdout",
     "output_type": "stream",
     "text": [
      "((27, 1, 512, 512), (27, 1, 512, 512), (2, 1, 512, 512), (2, 1, 512, 512))\n"
     ]
    }
   ],
   "source": [
    "X_valid = X_valid[:-2]\n",
    "y_valid = y_valid[:-2]\n",
    "\n",
    "X_test = X_valid[-2:]\n",
    "y_test = y_valid[-2:]\n",
    "\n",
    "\n",
    "print(X_valid.shape, y_valid.shape, X_test.shape, y_test.shape)"
   ]
  },
  {
   "cell_type": "code",
   "execution_count": 13,
   "metadata": {
    "scrolled": false
   },
   "outputs": [
    {
     "name": "stdout",
     "output_type": "stream",
     "text": [
      "__________________________________________________________________________________________________\n",
      "Layer (type)                    Output Shape         Param #     Connected to                     \n",
      "==================================================================================================\n",
      "input_3 (InputLayer)            (None, 1, 512, 512)  0                                            \n",
      "__________________________________________________________________________________________________\n",
      "conv2d_39 (Conv2D)              (None, 32, 512, 512) 320         input_3[0][0]                    \n",
      "__________________________________________________________________________________________________\n",
      "conv2d_40 (Conv2D)              (None, 32, 512, 512) 9248        conv2d_39[0][0]                  \n",
      "__________________________________________________________________________________________________\n",
      "batch_normalization_17 (BatchNo (None, 32, 512, 512) 128         conv2d_40[0][0]                  \n",
      "__________________________________________________________________________________________________\n",
      "max_pooling2d_9 (MaxPooling2D)  (None, 32, 256, 256) 0           batch_normalization_17[0][0]     \n",
      "__________________________________________________________________________________________________\n",
      "conv2d_41 (Conv2D)              (None, 64, 256, 256) 18496       max_pooling2d_9[0][0]            \n",
      "__________________________________________________________________________________________________\n",
      "conv2d_42 (Conv2D)              (None, 64, 256, 256) 36928       conv2d_41[0][0]                  \n",
      "__________________________________________________________________________________________________\n",
      "batch_normalization_18 (BatchNo (None, 64, 256, 256) 256         conv2d_42[0][0]                  \n",
      "__________________________________________________________________________________________________\n",
      "max_pooling2d_10 (MaxPooling2D) (None, 64, 128, 128) 0           batch_normalization_18[0][0]     \n",
      "__________________________________________________________________________________________________\n",
      "conv2d_43 (Conv2D)              (None, 128, 128, 128 73856       max_pooling2d_10[0][0]           \n",
      "__________________________________________________________________________________________________\n",
      "conv2d_44 (Conv2D)              (None, 128, 128, 128 147584      conv2d_43[0][0]                  \n",
      "__________________________________________________________________________________________________\n",
      "batch_normalization_19 (BatchNo (None, 128, 128, 128 512         conv2d_44[0][0]                  \n",
      "__________________________________________________________________________________________________\n",
      "max_pooling2d_11 (MaxPooling2D) (None, 128, 64, 64)  0           batch_normalization_19[0][0]     \n",
      "__________________________________________________________________________________________________\n",
      "conv2d_45 (Conv2D)              (None, 256, 64, 64)  295168      max_pooling2d_11[0][0]           \n",
      "__________________________________________________________________________________________________\n",
      "conv2d_46 (Conv2D)              (None, 256, 64, 64)  590080      conv2d_45[0][0]                  \n",
      "__________________________________________________________________________________________________\n",
      "batch_normalization_20 (BatchNo (None, 256, 64, 64)  1024        conv2d_46[0][0]                  \n",
      "__________________________________________________________________________________________________\n",
      "max_pooling2d_12 (MaxPooling2D) (None, 256, 32, 32)  0           batch_normalization_20[0][0]     \n",
      "__________________________________________________________________________________________________\n",
      "conv2d_47 (Conv2D)              (None, 512, 32, 32)  1180160     max_pooling2d_12[0][0]           \n",
      "__________________________________________________________________________________________________\n",
      "conv2d_48 (Conv2D)              (None, 512, 32, 32)  2359808     conv2d_47[0][0]                  \n",
      "__________________________________________________________________________________________________\n",
      "dropout_3 (Dropout)             (None, 512, 32, 32)  0           conv2d_48[0][0]                  \n",
      "__________________________________________________________________________________________________\n",
      "up_sampling2d_9 (UpSampling2D)  (None, 512, 64, 64)  0           dropout_3[0][0]                  \n",
      "__________________________________________________________________________________________________\n",
      "concatenate_9 (Concatenate)     (None, 768, 64, 64)  0           up_sampling2d_9[0][0]            \n",
      "                                                                 conv2d_46[0][0]                  \n",
      "__________________________________________________________________________________________________\n",
      "conv2d_49 (Conv2D)              (None, 256, 64, 64)  1769728     concatenate_9[0][0]              \n",
      "__________________________________________________________________________________________________\n",
      "conv2d_50 (Conv2D)              (None, 256, 64, 64)  590080      conv2d_49[0][0]                  \n",
      "__________________________________________________________________________________________________\n",
      "up_sampling2d_10 (UpSampling2D) (None, 256, 128, 128 0           conv2d_50[0][0]                  \n",
      "__________________________________________________________________________________________________\n",
      "concatenate_10 (Concatenate)    (None, 384, 128, 128 0           up_sampling2d_10[0][0]           \n",
      "                                                                 conv2d_44[0][0]                  \n",
      "__________________________________________________________________________________________________\n",
      "conv2d_51 (Conv2D)              (None, 128, 128, 128 442496      concatenate_10[0][0]             \n",
      "__________________________________________________________________________________________________\n",
      "conv2d_52 (Conv2D)              (None, 128, 128, 128 147584      conv2d_51[0][0]                  \n",
      "__________________________________________________________________________________________________\n",
      "batch_normalization_22 (BatchNo (None, 128, 128, 128 512         conv2d_52[0][0]                  \n",
      "__________________________________________________________________________________________________\n",
      "up_sampling2d_11 (UpSampling2D) (None, 128, 256, 256 0           batch_normalization_22[0][0]     \n",
      "__________________________________________________________________________________________________\n",
      "concatenate_11 (Concatenate)    (None, 192, 256, 256 0           up_sampling2d_11[0][0]           \n",
      "                                                                 conv2d_42[0][0]                  \n",
      "__________________________________________________________________________________________________\n",
      "conv2d_53 (Conv2D)              (None, 64, 256, 256) 110656      concatenate_11[0][0]             \n",
      "__________________________________________________________________________________________________\n",
      "conv2d_54 (Conv2D)              (None, 64, 256, 256) 36928       conv2d_53[0][0]                  \n",
      "__________________________________________________________________________________________________\n",
      "batch_normalization_23 (BatchNo (None, 64, 256, 256) 256         conv2d_54[0][0]                  \n",
      "__________________________________________________________________________________________________\n",
      "up_sampling2d_12 (UpSampling2D) (None, 64, 512, 512) 0           batch_normalization_23[0][0]     \n",
      "__________________________________________________________________________________________________\n",
      "concatenate_12 (Concatenate)    (None, 96, 512, 512) 0           up_sampling2d_12[0][0]           \n",
      "                                                                 conv2d_40[0][0]                  \n",
      "__________________________________________________________________________________________________\n",
      "conv2d_55 (Conv2D)              (None, 32, 512, 512) 27680       concatenate_12[0][0]             \n",
      "__________________________________________________________________________________________________\n",
      "conv2d_56 (Conv2D)              (None, 32, 512, 512) 9248        conv2d_55[0][0]                  \n",
      "__________________________________________________________________________________________________\n",
      "batch_normalization_24 (BatchNo (None, 32, 512, 512) 128         conv2d_56[0][0]                  \n",
      "__________________________________________________________________________________________________\n",
      "conv2d_57 (Conv2D)              (None, 1, 512, 512)  33          batch_normalization_24[0][0]     \n",
      "==================================================================================================\n",
      "Total params: 7,848,897\n",
      "Trainable params: 7,847,489\n",
      "Non-trainable params: 1,408\n",
      "__________________________________________________________________________________________________\n",
      "None\n"
     ]
    },
    {
     "name": "stdout",
     "output_type": "stream",
     "text": [
      "Epoch 1/15\n",
      "6/6 [==============================] - 4s 605ms/step - loss: 0.4090 - dice_coef: 0.4382 - val_loss: 7.3751 - val_dice_coef: 0.4979\n",
      "Epoch 2/15\n",
      "6/6 [==============================] - 3s 516ms/step - loss: 0.3715 - dice_coef: 0.4340 - val_loss: 1.7703 - val_dice_coef: 0.0621\n",
      "Epoch 3/15\n",
      "6/6 [==============================] - 3s 519ms/step - loss: 0.3627 - dice_coef: 0.4296 - val_loss: 1.6841 - val_dice_coef: 0.0294\n",
      "Epoch 4/15\n",
      "6/6 [==============================] - 3s 521ms/step - loss: 0.3539 - dice_coef: 0.4292 - val_loss: 1.6912 - val_dice_coef: 0.0322\n",
      "Epoch 5/15\n",
      "6/6 [==============================] - 3s 517ms/step - loss: 0.3484 - dice_coef: 0.4229 - val_loss: 1.6856 - val_dice_coef: 0.0318\n",
      "Epoch 6/15\n",
      "1/6 [====>.........................] - ETA: 2s - loss: 0.3526 - dice_coef: 0.3983"
     ]
    },
    {
     "ename": "KeyboardInterrupt",
     "evalue": "",
     "output_type": "error",
     "traceback": [
      "\u001b[0;31m---------------------------------------------------------------------------\u001b[0m",
      "\u001b[0;31mKeyboardInterrupt\u001b[0m                         Traceback (most recent call last)",
      "\u001b[0;32m<ipython-input-13-6e20adf8db6e>\u001b[0m in \u001b[0;36m<module>\u001b[0;34m()\u001b[0m\n\u001b[1;32m     30\u001b[0m         history = model.fit_generator(train_generator, \n\u001b[1;32m     31\u001b[0m                                       \u001b[0mvalidation_data\u001b[0m\u001b[0;34m=\u001b[0m\u001b[0mval_generator\u001b[0m\u001b[0;34m,\u001b[0m\u001b[0;34m\u001b[0m\u001b[0m\n\u001b[0;32m---> 32\u001b[0;31m                                     epochs=nb_initial_epochs, verbose=1, callbacks=[tensorboard])\n\u001b[0m\u001b[1;32m     33\u001b[0m \u001b[0;34m\u001b[0m\u001b[0m\n\u001b[1;32m     34\u001b[0m         \u001b[0mmodel\u001b[0m\u001b[0;34m.\u001b[0m\u001b[0msave\u001b[0m\u001b[0;34m(\u001b[0m\u001b[0minitial_weights_path\u001b[0m\u001b[0;34m)\u001b[0m\u001b[0;34m\u001b[0m\u001b[0m\n",
      "\u001b[0;32m/home/malub_local/ads_venv/lib/python2.7/site-packages/keras/legacy/interfaces.pyc\u001b[0m in \u001b[0;36mwrapper\u001b[0;34m(*args, **kwargs)\u001b[0m\n\u001b[1;32m     89\u001b[0m                 warnings.warn('Update your `' + object_name +\n\u001b[1;32m     90\u001b[0m                               '` call to the Keras 2 API: ' + signature, stacklevel=2)\n\u001b[0;32m---> 91\u001b[0;31m             \u001b[0;32mreturn\u001b[0m \u001b[0mfunc\u001b[0m\u001b[0;34m(\u001b[0m\u001b[0;34m*\u001b[0m\u001b[0margs\u001b[0m\u001b[0;34m,\u001b[0m \u001b[0;34m**\u001b[0m\u001b[0mkwargs\u001b[0m\u001b[0;34m)\u001b[0m\u001b[0;34m\u001b[0m\u001b[0m\n\u001b[0m\u001b[1;32m     92\u001b[0m         \u001b[0mwrapper\u001b[0m\u001b[0;34m.\u001b[0m\u001b[0m_original_function\u001b[0m \u001b[0;34m=\u001b[0m \u001b[0mfunc\u001b[0m\u001b[0;34m\u001b[0m\u001b[0m\n\u001b[1;32m     93\u001b[0m         \u001b[0;32mreturn\u001b[0m \u001b[0mwrapper\u001b[0m\u001b[0;34m\u001b[0m\u001b[0m\n",
      "\u001b[0;32m/home/malub_local/ads_venv/lib/python2.7/site-packages/keras/engine/training.pyc\u001b[0m in \u001b[0;36mfit_generator\u001b[0;34m(self, generator, steps_per_epoch, epochs, verbose, callbacks, validation_data, validation_steps, class_weight, max_queue_size, workers, use_multiprocessing, shuffle, initial_epoch)\u001b[0m\n\u001b[1;32m   1413\u001b[0m             \u001b[0muse_multiprocessing\u001b[0m\u001b[0;34m=\u001b[0m\u001b[0muse_multiprocessing\u001b[0m\u001b[0;34m,\u001b[0m\u001b[0;34m\u001b[0m\u001b[0m\n\u001b[1;32m   1414\u001b[0m             \u001b[0mshuffle\u001b[0m\u001b[0;34m=\u001b[0m\u001b[0mshuffle\u001b[0m\u001b[0;34m,\u001b[0m\u001b[0;34m\u001b[0m\u001b[0m\n\u001b[0;32m-> 1415\u001b[0;31m             initial_epoch=initial_epoch)\n\u001b[0m\u001b[1;32m   1416\u001b[0m \u001b[0;34m\u001b[0m\u001b[0m\n\u001b[1;32m   1417\u001b[0m     \u001b[0;34m@\u001b[0m\u001b[0minterfaces\u001b[0m\u001b[0;34m.\u001b[0m\u001b[0mlegacy_generator_methods_support\u001b[0m\u001b[0;34m\u001b[0m\u001b[0m\n",
      "\u001b[0;32m/home/malub_local/ads_venv/lib/python2.7/site-packages/keras/engine/training_generator.pyc\u001b[0m in \u001b[0;36mfit_generator\u001b[0;34m(model, generator, steps_per_epoch, epochs, verbose, callbacks, validation_data, validation_steps, class_weight, max_queue_size, workers, use_multiprocessing, shuffle, initial_epoch)\u001b[0m\n\u001b[1;32m    211\u001b[0m                 outs = model.train_on_batch(x, y,\n\u001b[1;32m    212\u001b[0m                                             \u001b[0msample_weight\u001b[0m\u001b[0;34m=\u001b[0m\u001b[0msample_weight\u001b[0m\u001b[0;34m,\u001b[0m\u001b[0;34m\u001b[0m\u001b[0m\n\u001b[0;32m--> 213\u001b[0;31m                                             class_weight=class_weight)\n\u001b[0m\u001b[1;32m    214\u001b[0m \u001b[0;34m\u001b[0m\u001b[0m\n\u001b[1;32m    215\u001b[0m                 \u001b[0mouts\u001b[0m \u001b[0;34m=\u001b[0m \u001b[0mto_list\u001b[0m\u001b[0;34m(\u001b[0m\u001b[0mouts\u001b[0m\u001b[0;34m)\u001b[0m\u001b[0;34m\u001b[0m\u001b[0m\n",
      "\u001b[0;32m/home/malub_local/ads_venv/lib/python2.7/site-packages/keras/engine/training.pyc\u001b[0m in \u001b[0;36mtrain_on_batch\u001b[0;34m(self, x, y, sample_weight, class_weight)\u001b[0m\n\u001b[1;32m   1213\u001b[0m             \u001b[0mins\u001b[0m \u001b[0;34m=\u001b[0m \u001b[0mx\u001b[0m \u001b[0;34m+\u001b[0m \u001b[0my\u001b[0m \u001b[0;34m+\u001b[0m \u001b[0msample_weights\u001b[0m\u001b[0;34m\u001b[0m\u001b[0m\n\u001b[1;32m   1214\u001b[0m         \u001b[0mself\u001b[0m\u001b[0;34m.\u001b[0m\u001b[0m_make_train_function\u001b[0m\u001b[0;34m(\u001b[0m\u001b[0;34m)\u001b[0m\u001b[0;34m\u001b[0m\u001b[0m\n\u001b[0;32m-> 1215\u001b[0;31m         \u001b[0moutputs\u001b[0m \u001b[0;34m=\u001b[0m \u001b[0mself\u001b[0m\u001b[0;34m.\u001b[0m\u001b[0mtrain_function\u001b[0m\u001b[0;34m(\u001b[0m\u001b[0mins\u001b[0m\u001b[0;34m)\u001b[0m\u001b[0;34m\u001b[0m\u001b[0m\n\u001b[0m\u001b[1;32m   1216\u001b[0m         \u001b[0;32mreturn\u001b[0m \u001b[0munpack_singleton\u001b[0m\u001b[0;34m(\u001b[0m\u001b[0moutputs\u001b[0m\u001b[0;34m)\u001b[0m\u001b[0;34m\u001b[0m\u001b[0m\n\u001b[1;32m   1217\u001b[0m \u001b[0;34m\u001b[0m\u001b[0m\n",
      "\u001b[0;32m/home/malub_local/ads_venv/lib/python2.7/site-packages/keras/backend/tensorflow_backend.pyc\u001b[0m in \u001b[0;36m__call__\u001b[0;34m(self, inputs)\u001b[0m\n\u001b[1;32m   2670\u001b[0m                     \u001b[0;34m'In order to feed symbolic tensors to a Keras model '\u001b[0m\u001b[0;34m\u001b[0m\u001b[0m\n\u001b[1;32m   2671\u001b[0m                     'in TensorFlow, you need tensorflow 1.8 or higher.')\n\u001b[0;32m-> 2672\u001b[0;31m             \u001b[0;32mreturn\u001b[0m \u001b[0mself\u001b[0m\u001b[0;34m.\u001b[0m\u001b[0m_legacy_call\u001b[0m\u001b[0;34m(\u001b[0m\u001b[0minputs\u001b[0m\u001b[0;34m)\u001b[0m\u001b[0;34m\u001b[0m\u001b[0m\n\u001b[0m\u001b[1;32m   2673\u001b[0m \u001b[0;34m\u001b[0m\u001b[0m\n\u001b[1;32m   2674\u001b[0m \u001b[0;34m\u001b[0m\u001b[0m\n",
      "\u001b[0;32m/home/malub_local/ads_venv/lib/python2.7/site-packages/keras/backend/tensorflow_backend.pyc\u001b[0m in \u001b[0;36m_legacy_call\u001b[0;34m(self, inputs)\u001b[0m\n\u001b[1;32m   2652\u001b[0m         \u001b[0msession\u001b[0m \u001b[0;34m=\u001b[0m \u001b[0mget_session\u001b[0m\u001b[0;34m(\u001b[0m\u001b[0;34m)\u001b[0m\u001b[0;34m\u001b[0m\u001b[0m\n\u001b[1;32m   2653\u001b[0m         updated = session.run(fetches=fetches, feed_dict=feed_dict,\n\u001b[0;32m-> 2654\u001b[0;31m                               **self.session_kwargs)\n\u001b[0m\u001b[1;32m   2655\u001b[0m         \u001b[0;32mreturn\u001b[0m \u001b[0mupdated\u001b[0m\u001b[0;34m[\u001b[0m\u001b[0;34m:\u001b[0m\u001b[0mlen\u001b[0m\u001b[0;34m(\u001b[0m\u001b[0mself\u001b[0m\u001b[0;34m.\u001b[0m\u001b[0moutputs\u001b[0m\u001b[0;34m)\u001b[0m\u001b[0;34m]\u001b[0m\u001b[0;34m\u001b[0m\u001b[0m\n\u001b[1;32m   2656\u001b[0m \u001b[0;34m\u001b[0m\u001b[0m\n",
      "\u001b[0;32m/home/malub_local/ads_venv/lib/python2.7/site-packages/tensorflow/python/client/session.pyc\u001b[0m in \u001b[0;36mrun\u001b[0;34m(self, fetches, feed_dict, options, run_metadata)\u001b[0m\n\u001b[1;32m    893\u001b[0m     \u001b[0;32mtry\u001b[0m\u001b[0;34m:\u001b[0m\u001b[0;34m\u001b[0m\u001b[0m\n\u001b[1;32m    894\u001b[0m       result = self._run(None, fetches, feed_dict, options_ptr,\n\u001b[0;32m--> 895\u001b[0;31m                          run_metadata_ptr)\n\u001b[0m\u001b[1;32m    896\u001b[0m       \u001b[0;32mif\u001b[0m \u001b[0mrun_metadata\u001b[0m\u001b[0;34m:\u001b[0m\u001b[0;34m\u001b[0m\u001b[0m\n\u001b[1;32m    897\u001b[0m         \u001b[0mproto_data\u001b[0m \u001b[0;34m=\u001b[0m \u001b[0mtf_session\u001b[0m\u001b[0;34m.\u001b[0m\u001b[0mTF_GetBuffer\u001b[0m\u001b[0;34m(\u001b[0m\u001b[0mrun_metadata_ptr\u001b[0m\u001b[0;34m)\u001b[0m\u001b[0;34m\u001b[0m\u001b[0m\n",
      "\u001b[0;32m/home/malub_local/ads_venv/lib/python2.7/site-packages/tensorflow/python/client/session.pyc\u001b[0m in \u001b[0;36m_run\u001b[0;34m(self, handle, fetches, feed_dict, options, run_metadata)\u001b[0m\n\u001b[1;32m   1122\u001b[0m     \u001b[0;32mif\u001b[0m \u001b[0mfinal_fetches\u001b[0m \u001b[0;32mor\u001b[0m \u001b[0mfinal_targets\u001b[0m \u001b[0;32mor\u001b[0m \u001b[0;34m(\u001b[0m\u001b[0mhandle\u001b[0m \u001b[0;32mand\u001b[0m \u001b[0mfeed_dict_tensor\u001b[0m\u001b[0;34m)\u001b[0m\u001b[0;34m:\u001b[0m\u001b[0;34m\u001b[0m\u001b[0m\n\u001b[1;32m   1123\u001b[0m       results = self._do_run(handle, final_targets, final_fetches,\n\u001b[0;32m-> 1124\u001b[0;31m                              feed_dict_tensor, options, run_metadata)\n\u001b[0m\u001b[1;32m   1125\u001b[0m     \u001b[0;32melse\u001b[0m\u001b[0;34m:\u001b[0m\u001b[0;34m\u001b[0m\u001b[0m\n\u001b[1;32m   1126\u001b[0m       \u001b[0mresults\u001b[0m \u001b[0;34m=\u001b[0m \u001b[0;34m[\u001b[0m\u001b[0;34m]\u001b[0m\u001b[0;34m\u001b[0m\u001b[0m\n",
      "\u001b[0;32m/home/malub_local/ads_venv/lib/python2.7/site-packages/tensorflow/python/client/session.pyc\u001b[0m in \u001b[0;36m_do_run\u001b[0;34m(self, handle, target_list, fetch_list, feed_dict, options, run_metadata)\u001b[0m\n\u001b[1;32m   1319\u001b[0m     \u001b[0;32mif\u001b[0m \u001b[0mhandle\u001b[0m \u001b[0;32mis\u001b[0m \u001b[0mNone\u001b[0m\u001b[0;34m:\u001b[0m\u001b[0;34m\u001b[0m\u001b[0m\n\u001b[1;32m   1320\u001b[0m       return self._do_call(_run_fn, self._session, feeds, fetches, targets,\n\u001b[0;32m-> 1321\u001b[0;31m                            options, run_metadata)\n\u001b[0m\u001b[1;32m   1322\u001b[0m     \u001b[0;32melse\u001b[0m\u001b[0;34m:\u001b[0m\u001b[0;34m\u001b[0m\u001b[0m\n\u001b[1;32m   1323\u001b[0m       \u001b[0;32mreturn\u001b[0m \u001b[0mself\u001b[0m\u001b[0;34m.\u001b[0m\u001b[0m_do_call\u001b[0m\u001b[0;34m(\u001b[0m\u001b[0m_prun_fn\u001b[0m\u001b[0;34m,\u001b[0m \u001b[0mself\u001b[0m\u001b[0;34m.\u001b[0m\u001b[0m_session\u001b[0m\u001b[0;34m,\u001b[0m \u001b[0mhandle\u001b[0m\u001b[0;34m,\u001b[0m \u001b[0mfeeds\u001b[0m\u001b[0;34m,\u001b[0m \u001b[0mfetches\u001b[0m\u001b[0;34m)\u001b[0m\u001b[0;34m\u001b[0m\u001b[0m\n",
      "\u001b[0;32m/home/malub_local/ads_venv/lib/python2.7/site-packages/tensorflow/python/client/session.pyc\u001b[0m in \u001b[0;36m_do_call\u001b[0;34m(self, fn, *args)\u001b[0m\n\u001b[1;32m   1325\u001b[0m   \u001b[0;32mdef\u001b[0m \u001b[0m_do_call\u001b[0m\u001b[0;34m(\u001b[0m\u001b[0mself\u001b[0m\u001b[0;34m,\u001b[0m \u001b[0mfn\u001b[0m\u001b[0;34m,\u001b[0m \u001b[0;34m*\u001b[0m\u001b[0margs\u001b[0m\u001b[0;34m)\u001b[0m\u001b[0;34m:\u001b[0m\u001b[0;34m\u001b[0m\u001b[0m\n\u001b[1;32m   1326\u001b[0m     \u001b[0;32mtry\u001b[0m\u001b[0;34m:\u001b[0m\u001b[0;34m\u001b[0m\u001b[0m\n\u001b[0;32m-> 1327\u001b[0;31m       \u001b[0;32mreturn\u001b[0m \u001b[0mfn\u001b[0m\u001b[0;34m(\u001b[0m\u001b[0;34m*\u001b[0m\u001b[0margs\u001b[0m\u001b[0;34m)\u001b[0m\u001b[0;34m\u001b[0m\u001b[0m\n\u001b[0m\u001b[1;32m   1328\u001b[0m     \u001b[0;32mexcept\u001b[0m \u001b[0merrors\u001b[0m\u001b[0;34m.\u001b[0m\u001b[0mOpError\u001b[0m \u001b[0;32mas\u001b[0m \u001b[0me\u001b[0m\u001b[0;34m:\u001b[0m\u001b[0;34m\u001b[0m\u001b[0m\n\u001b[1;32m   1329\u001b[0m       \u001b[0mmessage\u001b[0m \u001b[0;34m=\u001b[0m \u001b[0mcompat\u001b[0m\u001b[0;34m.\u001b[0m\u001b[0mas_text\u001b[0m\u001b[0;34m(\u001b[0m\u001b[0me\u001b[0m\u001b[0;34m.\u001b[0m\u001b[0mmessage\u001b[0m\u001b[0;34m)\u001b[0m\u001b[0;34m\u001b[0m\u001b[0m\n",
      "\u001b[0;32m/home/malub_local/ads_venv/lib/python2.7/site-packages/tensorflow/python/client/session.pyc\u001b[0m in \u001b[0;36m_run_fn\u001b[0;34m(session, feed_dict, fetch_list, target_list, options, run_metadata)\u001b[0m\n\u001b[1;32m   1304\u001b[0m           return tf_session.TF_Run(session, options,\n\u001b[1;32m   1305\u001b[0m                                    \u001b[0mfeed_dict\u001b[0m\u001b[0;34m,\u001b[0m \u001b[0mfetch_list\u001b[0m\u001b[0;34m,\u001b[0m \u001b[0mtarget_list\u001b[0m\u001b[0;34m,\u001b[0m\u001b[0;34m\u001b[0m\u001b[0m\n\u001b[0;32m-> 1306\u001b[0;31m                                    status, run_metadata)\n\u001b[0m\u001b[1;32m   1307\u001b[0m \u001b[0;34m\u001b[0m\u001b[0m\n\u001b[1;32m   1308\u001b[0m     \u001b[0;32mdef\u001b[0m \u001b[0m_prun_fn\u001b[0m\u001b[0;34m(\u001b[0m\u001b[0msession\u001b[0m\u001b[0;34m,\u001b[0m \u001b[0mhandle\u001b[0m\u001b[0;34m,\u001b[0m \u001b[0mfeed_dict\u001b[0m\u001b[0;34m,\u001b[0m \u001b[0mfetch_list\u001b[0m\u001b[0;34m)\u001b[0m\u001b[0;34m:\u001b[0m\u001b[0;34m\u001b[0m\u001b[0m\n",
      "\u001b[0;31mKeyboardInterrupt\u001b[0m: "
     ]
    }
   ],
   "source": [
    "# (1) Initialize model\n",
    "model = unet_full_bn(dropout=True)\n",
    "reset_weights(model)\n",
    "\n",
    "print(model.summary())\n",
    "\n",
    "params = get_params(img_rows, img_cols, nb_total, nb_train, nb_labeled, nb_unlabeled, apply_edt, nb_iterations, \n",
    "               nb_step_predictions, initial_train, nb_initial_epochs, nb_active_epochs, batch_size, \n",
    "              learning_rate, decay_rate, apply_augmentation,  featurewise_center, featurewise_std_normalization, \n",
    "              rotation_range, horizontal_flip, vertical_flip, zca_whitening, rescale, channel_shift_range, zoom_range )\n",
    "\n",
    "# data augmentation\n",
    "train_generator = data_generator().flow(X_train[labeled_index], y_train[labeled_index],\n",
    "                                      batch_size=batch_size, \n",
    "                                      shuffle=True)\n",
    "\n",
    "val_generator = data_generator().flow(X_valid, y_valid,\n",
    "                                      batch_size=batch_size, \n",
    "                                      shuffle=True)\n",
    "\n",
    "# training\n",
    "if initial_train:\n",
    "    model_checkpoint = ModelCheckpoint(initial_weights_path, monitor='loss', save_best_only=True)\n",
    "\n",
    "    if apply_augmentation:\n",
    "        timestamp = format(time.strftime('%m%d_%H%M_%S'))\n",
    "        tensorboard = TensorBoard(log_dir = str(\"../logs/\" + str(timestamp)))\n",
    "        #save_parameters(timestamp, params)\n",
    "        \n",
    "        history = model.fit_generator(train_generator, \n",
    "                                      validation_data=val_generator,\n",
    "                                    epochs=nb_initial_epochs, verbose=1, callbacks=[tensorboard])\n",
    "        \n",
    "        model.save(initial_weights_path)\n",
    "   \n",
    "    else:\n",
    "        timestamp = format(time.strftime('%m%d_%H%M_%S'))\n",
    "        tensorboard = TensorBoard(log_dir = str(\"../logs/\" + str(timestamp)))\n",
    "        #save_parameters(timestamp, params)\n",
    "        \n",
    "        history = model.fit(X_train[labeled_index], y_train[labeled_index], validation_data=(X_valid, y_valid),\n",
    "                            batch_size=batch_size, \n",
    "                            epochs=nb_initial_epochs,\n",
    "                            verbose=1, shuffle=True, callbacks=[tensorboard])\n",
    "\n",
    "else:\n",
    "    model.load_weights(initial_weights_path)\n",
    "    \n",
    "print(\"Saving model...\\n\")   \n",
    "model.save(final_weights_path)\n",
    "\n",
    "\n",
    "\n",
    "# uncertainty computation\n",
    "\n",
    "weights = final_weights_path\n",
    "modelUncertain = unet_full_bn(dropout=True)\n",
    "modelUncertain.load_weights(weights)\n",
    "\n",
    "uncertain = np.zeros(len(X_test))\n",
    "accuracy = np.zeros(len(X_test))\n",
    "uncertain_map = []\n",
    "\n",
    "print(\"Computing log predictions ...\\n\")\n",
    "predictions = predict(X_test, model)\n",
    "\n",
    "for i in range(len(X_test)):\n",
    "    sample = X_test[i].reshape([1, 1, img_rows, img_cols])\n",
    "    sample_prediction = cv2.threshold(predictions[i], 0.5, 1, cv2.THRESH_BINARY)[1].astype('uint8')\n",
    "    accuracy[i] = compute_dice_coef(y_train[i][0], sample_prediction)\n",
    "    uncertain[i] = compute_uncertain(sample, sample_prediction, modelUncertain)\n",
    "    uncertain_map_i = compute_uncertain_map(sample, sample_prediction, modelUncertain)\n",
    "    uncertain_map.append(uncertain_map_i)\n",
    "    \n",
    "    \n",
    "uncertain_map_array = np.asarray(uncertain_map)\n",
    "print(uncertain_map_array.shape)\n",
    "print(\"Done\")"
   ]
  },
  {
   "cell_type": "code",
   "execution_count": null,
   "metadata": {},
   "outputs": [],
   "source": [
    "# Plot predictions and uncertainty map for 2 samples \n",
    "\n",
    "plt.figure(figsize=(20,10))\n",
    "plt.subplot(221)\n",
    "plt.imshow(predictions[0][0,:,:])\n",
    "plt.title(\"Prediction sample 1\")\n",
    "plt.subplot(222)\n",
    "plt.imshow(uncertain_map_array[0])\n",
    "plt.title(\"Uncertainty map sample 1\")\n",
    "plt.subplot(223)\n",
    "plt.imshow(X_test[0][0,:,:])\n",
    "plt.title(\"Sample 1\")\n",
    "plt.subplot(224)\n",
    "plt.imshow(y_test[0][0,:,:])\n",
    "plt.title(\"Ground Truth sample 1\")\n",
    "plt.tight_layout()\n",
    "plt.show()\n",
    "\n",
    "# Plot predictions and uncertainty map for 2 samples\n",
    "\n",
    "plt.figure(figsize=(20,10))\n",
    "plt.subplot(221)\n",
    "plt.imshow(predictions[1][0,:,:])\n",
    "plt.title(\"Prediction sample 2\")\n",
    "plt.subplot(222)\n",
    "plt.imshow(uncertain_map_array[1])\n",
    "plt.title(\"Uncertainty map sample 2\")\n",
    "plt.subplot(223)\n",
    "plt.imshow(X_test[1][0,:,:])\n",
    "plt.title(\"Sample 2\")\n",
    "plt.subplot(224)\n",
    "plt.imshow(y_test[1][0,:,:])\n",
    "plt.title(\"Ground Truth sample 2\")\n",
    "plt.tight_layout()\n",
    "plt.show()\n"
   ]
  },
  {
   "cell_type": "code",
   "execution_count": null,
   "metadata": {},
   "outputs": [],
   "source": [
    "imsave('../results/prediction.png', predictions[0][0,:,:])\n",
    "imsave('../results/uncertainty_map.png', uncertain_map_array[0])\n",
    "\n",
    "imsave('../results/sample.png', X_test[0][0,:,:])\n",
    "imsave('../results/mask.png', y_test[0][0,:,:])"
   ]
  },
  {
   "cell_type": "code",
   "execution_count": null,
   "metadata": {},
   "outputs": [],
   "source": []
  },
  {
   "cell_type": "code",
   "execution_count": null,
   "metadata": {},
   "outputs": [],
   "source": []
  },
  {
   "cell_type": "code",
   "execution_count": null,
   "metadata": {},
   "outputs": [],
   "source": [
    "def data_generator(fill_mode ='reflect', featurewise_center = False, featurewise_std_normalization = False, \n",
    "                      rotation_range = 0.0 , horizontal_flip = False, vertical_flip = False, \n",
    "                      zca_whitening = False, zca_epsilon = 1e-6, rescale = None, zoom_range = 0.0, \n",
    "                      channel_shift_range = 0 , brightness_range=None, shear_range=0.0 ):\n",
    "    \"\"\"\n",
    "    :return: Keras data generator. Data augmentation parameters.\n",
    "    \"\"\"\n",
    "    return ImageDataGenerator(\n",
    "        fill_mode = fill_mode,\n",
    "        featurewise_center = featurewise_center,\n",
    "        featurewise_std_normalization = featurewise_std_normalization,\n",
    "        rotation_range = rotation_range, \n",
    "        horizontal_flip = horizontal_flip,\n",
    "        vertical_flip = vertical_flip,\n",
    "        zca_whitening = zca_whitening, \n",
    "        zca_epsilon = zca_epsilon, \n",
    "        rescale = rescale, \n",
    "        zoom_range = zoom_range, \n",
    "        channel_shift_range = channel_shift_range, \n",
    "        brightness_range=None, shear_range=0.0\n",
    "    )"
   ]
  },
  {
   "cell_type": "code",
   "execution_count": null,
   "metadata": {},
   "outputs": [],
   "source": [
    "X_da = X_train[:2]\n",
    "y_da = y_train[:2]"
   ]
  },
  {
   "cell_type": "code",
   "execution_count": null,
   "metadata": {},
   "outputs": [],
   "source": [
    "sample = X_da[0]"
   ]
  },
  {
   "cell_type": "markdown",
   "metadata": {},
   "source": []
  },
  {
   "cell_type": "code",
   "execution_count": null,
   "metadata": {},
   "outputs": [],
   "source": [
    "gen1 = data_generator(fill_mode ='reflect', featurewise_center = False, featurewise_std_normalization = False, \n",
    "                      rotation_range = 0 , horizontal_flip = False, vertical_flip = False, \n",
    "                      zca_whitening = False, zca_epsilon = 1e-6, rescale = None, zoom_range = 0.0, \n",
    "                      channel_shift_range = 0 , brightness_range=None, shear_range=0.0)\n",
    "# rotation range\n",
    "gen2 = data_generator(fill_mode ='reflect', featurewise_center = False, featurewise_std_normalization = False, \n",
    "                      rotation_range = 80.0 , horizontal_flip = False, vertical_flip = False, \n",
    "                      zca_whitening = False, zca_epsilon = 1e-6, rescale = None, zoom_range = 0.0, \n",
    "                      channel_shift_range = 0 , brightness_range=None, shear_range=0.0)\n",
    "\n",
    "# feature wise center and std norm\n",
    "gen3 = data_generator(fill_mode ='reflect', featurewise_center = True, featurewise_std_normalization = True, \n",
    "                      rotation_range = 0 , horizontal_flip = False, vertical_flip = False, \n",
    "                      zca_whitening = False, zca_epsilon = 1e-6, rescale = None, zoom_range = 0.0, \n",
    "                      channel_shift_range = 0 , brightness_range=None, shear_range=0.0)\n",
    "\n",
    "# zca whitening & flip\n",
    "gen4 = data_generator(fill_mode ='reflect', featurewise_center = False, featurewise_std_normalization = False, \n",
    "                      rotation_range = 0 , horizontal_flip = True, vertical_flip = True, \n",
    "                      zca_whitening = True, zca_epsilon = 1e-2, rescale = None, zoom_range = 0.0, \n",
    "                      channel_shift_range = 0 , brightness_range=None, shear_range=0.0)\n",
    "\n",
    "# brightness range\n",
    "gen5 = data_generator(fill_mode ='reflect', featurewise_center = False, featurewise_std_normalization = False, \n",
    "                      rotation_range = 0 , horizontal_flip = False, vertical_flip = False, \n",
    "                      zca_whitening = False, zca_epsilon = 1e-6, rescale = None, zoom_range = 0.0, \n",
    "                      channel_shift_range = 0 , brightness_range=10, shear_range=0.0)\n",
    "\n",
    "# Zoom Range and channel shift \n",
    "gen6 = data_generator(fill_mode ='reflect', featurewise_center = False, featurewise_std_normalization = False, \n",
    "                      rotation_range = 0 , horizontal_flip = False, vertical_flip = False, \n",
    "                      zca_whitening = False, zca_epsilon = 1e-6, rescale = None, zoom_range = 0.2, \n",
    "                      channel_shift_range = 10 , brightness_range=None, shear_range=0.0)\n",
    "\n",
    "# shear range\n",
    "gen7 = data_generator(fill_mode ='reflect', featurewise_center = False, featurewise_std_normalization = False, \n",
    "                      rotation_range = 0 , horizontal_flip = False, vertical_flip = False, \n",
    "                      zca_whitening = False, zca_epsilon = 1e-6, rescale = None, zoom_range = 0.0, \n",
    "                      channel_shift_range = 0 , brightness_range=0, shear_range=45)\n",
    "\n",
    "# zoom range\n",
    "gen8 = data_generator(fill_mode ='nearest', featurewise_center = False, featurewise_std_normalization = False, \n",
    "                      rotation_range = 80 , horizontal_flip = False, vertical_flip = False, \n",
    "                      zca_whitening = False, zca_epsilon = 1e-6, rescale = 10, zoom_range = 0.5, \n",
    "                      channel_shift_range = 0 , brightness_range=2, shear_range=0.2)\n",
    "\n",
    "# shear range\n",
    "gen9 = data_generator(fill_mode ='reflect', featurewise_center = True, featurewise_std_normalization = True, \n",
    "                      rotation_range = 20 , horizontal_flip = True, vertical_flip = True, \n",
    "                      zca_whitening = True, zca_epsilon = 1e-6, rescale = None, zoom_range = 0.2, \n",
    "                      channel_shift_range = 5, brightness_range=0, shear_range=0)"
   ]
  },
  {
   "cell_type": "code",
   "execution_count": null,
   "metadata": {},
   "outputs": [],
   "source": [
    "X_da[0].shape"
   ]
  },
  {
   "cell_type": "code",
   "execution_count": null,
   "metadata": {},
   "outputs": [],
   "source": [
    "generators = [gen1, gen2, gen3, gen4, gen5, gen6, gen7, gen8, gen9]\n",
    "X = np.zeros((10, 1, 512, 512))\n",
    "y = np.zeros((10, 1, 512, 512))\n",
    "i = 0\n",
    "\n",
    "for gen in generators:\n",
    "    train_generator = gen.flow(X_da, seed = 2, shuffle=False)\n",
    "    train_mask_generator = gen.flow(y_da, seed = 2, shuffle=False)\n",
    "    X[i] = train_generator[0][0]\n",
    "    y[i] = train_mask_generator[0][0]\n",
    "    i = i+1\n",
    "    \n",
    "X[9] = elastic_transform(X_da[0], X_da.shape[2] * 5, X_da.shape[2] * 0.08, X_da.shape[2] * 0.08)\n",
    "y[9] = elastic_transform(y_da[0], y_da.shape[2] * 5, y_da.shape[2] * 0.08, y_da.shape[2] * 0.08)"
   ]
  },
  {
   "cell_type": "code",
   "execution_count": null,
   "metadata": {},
   "outputs": [],
   "source": [
    "plt.figure(figsize=(15,15))\n",
    "plt.subplot(331)\n",
    "plt.imshow(X[9][0, :, :], cmap=plt.get_cmap('gray'))\n",
    "plt.title(\"Elastic transformation\")\n",
    "plt.subplot(332)\n",
    "plt.imshow(X[1].reshape(512, 512), cmap=plt.get_cmap('gray'))\n",
    "plt.title(\"Rotation\")\n",
    "plt.subplot(333)\n",
    "plt.imshow(X[2].reshape(512, 512), cmap=plt.get_cmap('gray'))\n",
    "plt.title(\"Featurewise center and std normalization\")\n",
    "plt.subplot(334)\n",
    "plt.imshow(X[3].reshape(512, 512), cmap=plt.get_cmap('gray'))\n",
    "plt.title(\"zca whitening and horizontal/vertical flip\")\n",
    "plt.subplot(335)\n",
    "plt.imshow(X[4].reshape(512, 512), cmap=plt.get_cmap('gray'))\n",
    "plt.title(\"brightness range\")\n",
    "plt.subplot(336)\n",
    "plt.imshow(X[5].reshape(512, 512), cmap=plt.get_cmap('gray'))\n",
    "plt.title(\"zoom range and channel shift\")\n",
    "plt.subplot(337)\n",
    "plt.imshow(X[6].reshape(512, 512), cmap=plt.get_cmap('gray'))\n",
    "plt.title(\"shear range\")\n",
    "plt.subplot(338)\n",
    "plt.imshow(X[7].reshape(512, 512), cmap=plt.get_cmap('gray'))\n",
    "plt.title(\"zoom range\")\n",
    "plt.subplot(339)\n",
    "plt.imshow(X[8].reshape(512, 512), cmap=plt.get_cmap('gray'))\n",
    "plt.title(\"All\")\n",
    "plt.show()"
   ]
  },
  {
   "cell_type": "code",
   "execution_count": null,
   "metadata": {},
   "outputs": [],
   "source": [
    "def elastic_transform(image, alpha, sigma, alpha_affine, random_state=None):\n",
    "    \"\"\"Elastic deformation of images as described in [Simard2003]_ (with modifications).\n",
    "    .. [Simard2003] Simard, Steinkraus and Platt, \"Best Practices for\n",
    "         Convolutional Neural Networks applied to Visual Document Analysis\", in\n",
    "         Proc. of the International Conference on Document Analysis and\n",
    "         Recognition, 2003.\n",
    "\n",
    "     Based on https://gist.github.com/erniejunior/601cdf56d2b424757de5\n",
    "    \"\"\"\n",
    "    if random_state is None:\n",
    "        random_state = np.random.RandomState(None)\n",
    "\n",
    "    shape = image.shape\n",
    "    shape_size = shape[1:]\n",
    "    \n",
    "    # Random affine\n",
    "    center_square = np.float32(shape_size) // 2\n",
    "    square_size = min(shape_size) // 3\n",
    "    pts1 = np.float32([center_square + square_size, [center_square[0]+square_size, center_square[1]-square_size], center_square - square_size])\n",
    "    pts2 = pts1 + random_state.uniform(-alpha_affine, alpha_affine, size=pts1.shape).astype(np.float32)\n",
    "    M = cv2.getAffineTransform(pts1, pts2)\n",
    "    image = cv2.warpAffine(image, M, shape_size[::-1], borderMode=cv2.BORDER_REFLECT_101)\n",
    "\n",
    "    dx = gaussian_filter((random_state.rand(*shape) * 2 - 1), sigma) * alpha\n",
    "    dy = gaussian_filter((random_state.rand(*shape) * 2 - 1), sigma) * alpha\n",
    "    dz = np.zeros_like(dx)\n",
    "\n",
    "    x, y, z = np.meshgrid(np.arange(shape[1]), np.arange(shape[0]), np.arange(shape[2]))\n",
    "    indices = np.reshape(y+dy, (-1, 1)), np.reshape(x+dx, (-1, 1)), np.reshape(z, (-1, 1))\n",
    "\n",
    "    return map_coordinates(image, indices, order=1, mode='reflect').reshape(shape)"
   ]
  },
  {
   "cell_type": "code",
   "execution_count": null,
   "metadata": {},
   "outputs": [],
   "source": [
    "sample"
   ]
  },
  {
   "cell_type": "code",
   "execution_count": null,
   "metadata": {},
   "outputs": [],
   "source": [
    "elastic = elastic_transform(X_da[0], sample.shape[2] * 15, sample.shape[2] * 0.08, sample.shape[2] * 0.08)\n",
    "elastic.shape"
   ]
  },
  {
   "cell_type": "code",
   "execution_count": null,
   "metadata": {},
   "outputs": [],
   "source": [
    "plt.imshow(elastic[0, :, :])"
   ]
  },
  {
   "cell_type": "code",
   "execution_count": null,
   "metadata": {},
   "outputs": [],
   "source": [
    "X_da.shape[2]"
   ]
  },
  {
   "cell_type": "code",
   "execution_count": null,
   "metadata": {
    "scrolled": false
   },
   "outputs": [],
   "source": [
    "# configure batch size and retrieve one batch of images\n",
    "for i in range(0,3):\n",
    "    plt.figure(figsize=(15,15))\n",
    "    plt.subplot(320 + (2*i +1))\n",
    "    plt.imshow(X[i].reshape(512, 512))\n",
    "    print(i,  2*i + 1,  2*i+2 )\n",
    "    plt.subplot(320 + (2*i+2) )\n",
    "    plt.imshow(y[i].reshape(512, 512), cmap=plt.get_cmap('gray'))\n",
    "# show the plot\n",
    "plt.show()"
   ]
  },
  {
   "cell_type": "code",
   "execution_count": null,
   "metadata": {},
   "outputs": [],
   "source": [
    "# data augmentation\n",
    "\n",
    "datagen = data_generator()\n",
    "\n",
    "datagen.fit(X_train)\n",
    "\n",
    "train_generator = gen1.flow(X_da, seed = 2, shuffle=False)\n",
    "train_mask_generator = gen1.flow(y_da, seed = 2, shuffle=False)\n",
    "\n",
    "\n",
    "\n",
    "val_generator = datagen.flow(X_valid, seed = 2, \n",
    "                                      batch_size=12, \n",
    "                                      shuffle=False)\n",
    "\n",
    "val_mask_generator = datagen.flow(y_valid, seed = 2, \n",
    "                                      batch_size=12, \n",
    "                                      shuffle=False)"
   ]
  },
  {
   "cell_type": "code",
   "execution_count": null,
   "metadata": {},
   "outputs": [],
   "source": [
    "# configure batch size and retrieve one batch of images\n",
    "for X_batch, y_batch in zip(train_generator, train_mask_generator):\n",
    "    plt.figure(figsize=(15,7))\n",
    "    print(X_batch.shape)\n",
    "    for i in range(0, 2):\n",
    "        plt.subplot(240 + 2*i +1)\n",
    "        plt.imshow(X_batch[0].reshape(512, 512), cmap=plt.get_cmap('gray'))\n",
    "        plt.subplot(240 + 2*i + 2)\n",
    "        plt.imshow(y_batch[0].reshape(512, 512), cmap=plt.get_cmap('gray'))\n",
    "# show the plot\n",
    "    plt.show()\n",
    "    break\n",
    "    \n",
    "    "
   ]
  },
  {
   "cell_type": "code",
   "execution_count": null,
   "metadata": {},
   "outputs": [],
   "source": [
    "# configure batch size and retrieve one batch of images\n",
    "for X_batch, y_batch in zip(train_generator, train_mask_generator):\n",
    "    plt.figure(figsize=(10,15))\n",
    "    print(X_batch.shape)\n",
    "    for i in range(0, 3):\n",
    "        plt.subplot(320 + 2*i +1)\n",
    "        plt.imshow(X_batch[i].reshape(512, 512), cmap=plt.get_cmap('gray'))\n",
    "        plt.subplot(320 + 2*i + 2)\n",
    "        plt.imshow(y_batch[i].reshape(512, 512), cmap=plt.get_cmap('gray'))\n",
    "# show the plot\n",
    "    plt.show()\n",
    "    break"
   ]
  },
  {
   "cell_type": "code",
   "execution_count": null,
   "metadata": {},
   "outputs": [],
   "source": [
    "def plotImages( images_arr, n_images=4):\n",
    "    fig, axes = plt.subplots(n_images, n_images, figsize=(12,12))\n",
    "    axes = axes.flatten()\n",
    "    for img, ax in zip( images_arr, axes):\n",
    "        if img.ndim != 2:\n",
    "            img = img.reshape( (SIZE,SIZE))\n",
    "        ax.imshow( img, cmap=\"Greys_r\")\n",
    "        ax.set_xticks(())\n",
    "        ax.set_yticks(())\n",
    "    plt.tight_layout()"
   ]
  },
  {
   "cell_type": "code",
   "execution_count": null,
   "metadata": {},
   "outputs": [],
   "source": [
    "print(\"Computing log predictions ...\\n\")\n",
    "predictions = predict(X_test, model)"
   ]
  },
  {
   "cell_type": "code",
   "execution_count": null,
   "metadata": {},
   "outputs": [],
   "source": [
    "X_test.shape"
   ]
  },
  {
   "cell_type": "code",
   "execution_count": null,
   "metadata": {},
   "outputs": [],
   "source": [
    "compute_dice_coef(predictions[0], y_test[0])"
   ]
  },
  {
   "cell_type": "code",
   "execution_count": null,
   "metadata": {},
   "outputs": [],
   "source": [
    "plt.imshow(predictions[0][0,:,:])"
   ]
  },
  {
   "cell_type": "code",
   "execution_count": null,
   "metadata": {},
   "outputs": [],
   "source": [
    "path_img_valid"
   ]
  },
  {
   "cell_type": "code",
   "execution_count": null,
   "metadata": {},
   "outputs": [],
   "source": [
    "# CEAL data definition\n",
    "X_valid, y_valid = load_data(path_img_valid, path_mask_valid)\n",
    "print(\"*************Xvalid.shape***********\", X_valid.shape)"
   ]
  },
  {
   "cell_type": "code",
   "execution_count": null,
   "metadata": {},
   "outputs": [],
   "source": [
    "X_test = X_valid[-2:]\n",
    "y_test = y_valid[-2:]"
   ]
  },
  {
   "cell_type": "code",
   "execution_count": null,
   "metadata": {},
   "outputs": [],
   "source": [
    "plt.imshow(X_test[0][0,:,:])"
   ]
  },
  {
   "cell_type": "code",
   "execution_count": null,
   "metadata": {},
   "outputs": [],
   "source": []
  }
 ],
 "metadata": {
  "kernelspec": {
   "display_name": "Python 2",
   "language": "python",
   "name": "python2"
  },
  "language_info": {
   "codemirror_mode": {
    "name": "ipython",
    "version": 2
   },
   "file_extension": ".py",
   "mimetype": "text/x-python",
   "name": "python",
   "nbconvert_exporter": "python",
   "pygments_lexer": "ipython2",
   "version": "2.7.5"
  }
 },
 "nbformat": 4,
 "nbformat_minor": 2
}
