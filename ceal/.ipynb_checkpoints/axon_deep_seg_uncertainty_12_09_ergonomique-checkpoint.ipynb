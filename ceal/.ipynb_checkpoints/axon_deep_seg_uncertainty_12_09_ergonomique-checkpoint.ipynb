{
 "cells": [
  {
   "cell_type": "code",
   "execution_count": 1,
   "metadata": {},
   "outputs": [
    {
     "name": "stderr",
     "output_type": "stream",
     "text": [
      "Using TensorFlow backend.\n"
     ]
    }
   ],
   "source": [
    "from utils import *\n",
    "from constants import *\n",
    "from networks import *\n",
    "\n",
    "import json\n",
    "import os\n",
    "import matplotlib.pyplot as plt\n",
    "\n",
    "import importlib\n"
   ]
  },
  {
   "cell_type": "code",
   "execution_count": null,
   "metadata": {},
   "outputs": [],
   "source": [
    "reload(utils)"
   ]
  },
  {
   "cell_type": "code",
   "execution_count": null,
   "metadata": {},
   "outputs": [],
   "source": [
    "ls"
   ]
  },
  {
   "cell_type": "code",
   "execution_count": null,
   "metadata": {},
   "outputs": [],
   "source": [
    "importlib.reload(constants)"
   ]
  },
  {
   "cell_type": "markdown",
   "metadata": {},
   "source": [
    "## U Net"
   ]
  },
  {
   "cell_type": "code",
   "execution_count": 2,
   "metadata": {},
   "outputs": [],
   "source": [
    "K.set_image_dim_ordering('th')  # Theano dimension ordering in this code\n",
    "smooth = 1.\n",
    "Dropout.call = call"
   ]
  },
  {
   "cell_type": "code",
   "execution_count": 3,
   "metadata": {},
   "outputs": [
    {
     "data": {
      "text/plain": [
       "u'/home/malub_local/activelearningADS/ceal'"
      ]
     },
     "execution_count": 3,
     "metadata": {},
     "output_type": "execute_result"
    }
   ],
   "source": [
    "pwd"
   ]
  },
  {
   "cell_type": "code",
   "execution_count": 4,
   "metadata": {},
   "outputs": [],
   "source": [
    "path_img_train = '/home/malub_local/rosenberg/data_rosenberg2/images_69.npy'\n",
    "path_mask_train = '/home/malub_local/rosenberg/data_rosenberg2/masks_69.npy'\n",
    "\n",
    "path_img_valid = '/home/malub_local/rosenberg/data_rosenberg2/images_valid_29.npy'\n",
    "path_mask_valid = '/home/malub_local/rosenberg/data_rosenberg2/masks_valid_29.npy'\n",
    "\n",
    "\n",
    "path_img_test = '/home/malub_local/rosenberg/data_rosenberg2/images_test_1.npy'\n",
    "path_mask_test = '/home/malub_local/rosenberg/data_rosenberg2/masks_test_1.npy'\n",
    "\n",
    "\n",
    "log_file = open(\"log_file_jupyter_myelin.txt\", 'a')"
   ]
  },
  {
   "cell_type": "code",
   "execution_count": 5,
   "metadata": {},
   "outputs": [
    {
     "name": "stdout",
     "output_type": "stream",
     "text": [
      "\n",
      "Loading data...\n",
      "\n",
      "('*************Xtrain.shape***********', (69, 1, 512, 512))\n",
      "53\n",
      "\n",
      "Loading data...\n",
      "\n",
      "('*************Xvalid.shape***********', (29, 1, 512, 512))\n",
      "\n",
      "Loading data...\n",
      "\n",
      "('*************Xtest.shape***********', (1, 1, 512, 512))\n"
     ]
    }
   ],
   "source": [
    "X_train, y_train = load_data(path_img_train, path_mask_train )\n",
    "print(\"*************Xtrain.shape***********\", y_train.shape)\n",
    "labeled_index = np.arange(0, nb_labeled)\n",
    "unlabeled_index = np.arange(nb_labeled, len(X_train))\n",
    "print(len(labeled_index))\n",
    "\n",
    "# CEAL data definition\n",
    "X_valid, y_valid = load_data(path_img_valid, path_mask_valid)\n",
    "print(\"*************Xvalid.shape***********\", X_valid.shape)\n",
    "\n",
    "# CEAL data definition\n",
    "X_test, y_test = load_data(path_img_test, path_mask_test)\n",
    "print(\"*************Xtest.shape***********\", X_test.shape)\n"
   ]
  },
  {
   "cell_type": "code",
   "execution_count": 6,
   "metadata": {},
   "outputs": [
    {
     "name": "stdout",
     "output_type": "stream",
     "text": [
      "((27, 1, 512, 512), (27, 1, 512, 512), (2, 1, 512, 512), (2, 1, 512, 512))\n"
     ]
    }
   ],
   "source": [
    "X_valid = X_valid[:-2]\n",
    "y_valid = y_valid[:-2]\n",
    "\n",
    "X_test = X_valid[-2:]\n",
    "y_test = y_valid[-2:]\n",
    "\n",
    "\n",
    "print(X_valid.shape, y_valid.shape, X_test.shape, y_test.shape)"
   ]
  },
  {
   "cell_type": "code",
   "execution_count": null,
   "metadata": {
    "scrolled": false
   },
   "outputs": [
    {
     "name": "stdout",
     "output_type": "stream",
     "text": [
      "__________________________________________________________________________________________________\n",
      "Layer (type)                    Output Shape         Param #     Connected to                     \n",
      "==================================================================================================\n",
      "input_1 (InputLayer)            (None, 1, 512, 512)  0                                            \n",
      "__________________________________________________________________________________________________\n",
      "conv2d_1 (Conv2D)               (None, 32, 512, 512) 320         input_1[0][0]                    \n",
      "__________________________________________________________________________________________________\n",
      "conv2d_2 (Conv2D)               (None, 32, 512, 512) 9248        conv2d_1[0][0]                   \n",
      "__________________________________________________________________________________________________\n",
      "batch_normalization_1 (BatchNor (None, 32, 512, 512) 128         conv2d_2[0][0]                   \n",
      "__________________________________________________________________________________________________\n",
      "max_pooling2d_1 (MaxPooling2D)  (None, 32, 256, 256) 0           batch_normalization_1[0][0]      \n",
      "__________________________________________________________________________________________________\n",
      "conv2d_3 (Conv2D)               (None, 64, 256, 256) 18496       max_pooling2d_1[0][0]            \n",
      "__________________________________________________________________________________________________\n",
      "conv2d_4 (Conv2D)               (None, 64, 256, 256) 36928       conv2d_3[0][0]                   \n",
      "__________________________________________________________________________________________________\n",
      "batch_normalization_2 (BatchNor (None, 64, 256, 256) 256         conv2d_4[0][0]                   \n",
      "__________________________________________________________________________________________________\n",
      "max_pooling2d_2 (MaxPooling2D)  (None, 64, 128, 128) 0           batch_normalization_2[0][0]      \n",
      "__________________________________________________________________________________________________\n",
      "conv2d_5 (Conv2D)               (None, 128, 128, 128 73856       max_pooling2d_2[0][0]            \n",
      "__________________________________________________________________________________________________\n",
      "conv2d_6 (Conv2D)               (None, 128, 128, 128 147584      conv2d_5[0][0]                   \n",
      "__________________________________________________________________________________________________\n",
      "batch_normalization_3 (BatchNor (None, 128, 128, 128 512         conv2d_6[0][0]                   \n",
      "__________________________________________________________________________________________________\n",
      "max_pooling2d_3 (MaxPooling2D)  (None, 128, 64, 64)  0           batch_normalization_3[0][0]      \n",
      "__________________________________________________________________________________________________\n",
      "conv2d_7 (Conv2D)               (None, 256, 64, 64)  295168      max_pooling2d_3[0][0]            \n",
      "__________________________________________________________________________________________________\n",
      "conv2d_8 (Conv2D)               (None, 256, 64, 64)  590080      conv2d_7[0][0]                   \n",
      "__________________________________________________________________________________________________\n",
      "batch_normalization_4 (BatchNor (None, 256, 64, 64)  1024        conv2d_8[0][0]                   \n",
      "__________________________________________________________________________________________________\n",
      "max_pooling2d_4 (MaxPooling2D)  (None, 256, 32, 32)  0           batch_normalization_4[0][0]      \n",
      "__________________________________________________________________________________________________\n",
      "conv2d_9 (Conv2D)               (None, 512, 32, 32)  1180160     max_pooling2d_4[0][0]            \n",
      "__________________________________________________________________________________________________\n",
      "conv2d_10 (Conv2D)              (None, 512, 32, 32)  2359808     conv2d_9[0][0]                   \n",
      "__________________________________________________________________________________________________\n",
      "dropout_1 (Dropout)             (None, 512, 32, 32)  0           conv2d_10[0][0]                  \n",
      "__________________________________________________________________________________________________\n",
      "up_sampling2d_1 (UpSampling2D)  (None, 512, 64, 64)  0           dropout_1[0][0]                  \n",
      "__________________________________________________________________________________________________\n",
      "concatenate_1 (Concatenate)     (None, 768, 64, 64)  0           up_sampling2d_1[0][0]            \n",
      "                                                                 conv2d_8[0][0]                   \n",
      "__________________________________________________________________________________________________\n",
      "conv2d_11 (Conv2D)              (None, 256, 64, 64)  1769728     concatenate_1[0][0]              \n",
      "__________________________________________________________________________________________________\n",
      "conv2d_12 (Conv2D)              (None, 256, 64, 64)  590080      conv2d_11[0][0]                  \n",
      "__________________________________________________________________________________________________\n",
      "up_sampling2d_2 (UpSampling2D)  (None, 256, 128, 128 0           conv2d_12[0][0]                  \n",
      "__________________________________________________________________________________________________\n",
      "concatenate_2 (Concatenate)     (None, 384, 128, 128 0           up_sampling2d_2[0][0]            \n",
      "                                                                 conv2d_6[0][0]                   \n",
      "__________________________________________________________________________________________________\n",
      "conv2d_13 (Conv2D)              (None, 128, 128, 128 442496      concatenate_2[0][0]              \n",
      "__________________________________________________________________________________________________\n",
      "conv2d_14 (Conv2D)              (None, 128, 128, 128 147584      conv2d_13[0][0]                  \n",
      "__________________________________________________________________________________________________\n",
      "batch_normalization_6 (BatchNor (None, 128, 128, 128 512         conv2d_14[0][0]                  \n",
      "__________________________________________________________________________________________________\n",
      "up_sampling2d_3 (UpSampling2D)  (None, 128, 256, 256 0           batch_normalization_6[0][0]      \n",
      "__________________________________________________________________________________________________\n",
      "concatenate_3 (Concatenate)     (None, 192, 256, 256 0           up_sampling2d_3[0][0]            \n",
      "                                                                 conv2d_4[0][0]                   \n",
      "__________________________________________________________________________________________________\n",
      "conv2d_15 (Conv2D)              (None, 64, 256, 256) 110656      concatenate_3[0][0]              \n",
      "__________________________________________________________________________________________________\n",
      "conv2d_16 (Conv2D)              (None, 64, 256, 256) 36928       conv2d_15[0][0]                  \n",
      "__________________________________________________________________________________________________\n",
      "batch_normalization_7 (BatchNor (None, 64, 256, 256) 256         conv2d_16[0][0]                  \n",
      "__________________________________________________________________________________________________\n",
      "up_sampling2d_4 (UpSampling2D)  (None, 64, 512, 512) 0           batch_normalization_7[0][0]      \n",
      "__________________________________________________________________________________________________\n",
      "concatenate_4 (Concatenate)     (None, 96, 512, 512) 0           up_sampling2d_4[0][0]            \n",
      "                                                                 conv2d_2[0][0]                   \n",
      "__________________________________________________________________________________________________\n",
      "conv2d_17 (Conv2D)              (None, 32, 512, 512) 27680       concatenate_4[0][0]              \n",
      "__________________________________________________________________________________________________\n",
      "conv2d_18 (Conv2D)              (None, 32, 512, 512) 9248        conv2d_17[0][0]                  \n",
      "__________________________________________________________________________________________________\n",
      "batch_normalization_8 (BatchNor (None, 32, 512, 512) 128         conv2d_18[0][0]                  \n",
      "__________________________________________________________________________________________________\n",
      "conv2d_19 (Conv2D)              (None, 1, 512, 512)  33          batch_normalization_8[0][0]      \n",
      "==================================================================================================\n",
      "Total params: 7,848,897\n",
      "Trainable params: 7,847,489\n",
      "Non-trainable params: 1,408\n",
      "__________________________________________________________________________________________________\n",
      "None\n"
     ]
    },
    {
     "name": "stderr",
     "output_type": "stream",
     "text": [
      "/home/malub_local/ads_venv/lib/python2.7/site-packages/keras_preprocessing/image.py:792: UserWarning: This ImageDataGenerator specifies `zca_whitening` which overrides setting of`featurewise_std_normalization`.\n",
      "  warnings.warn('This ImageDataGenerator specifies '\n"
     ]
    },
    {
     "name": "stdout",
     "output_type": "stream",
     "text": [
      "Epoch 1/150\n"
     ]
    },
    {
     "name": "stderr",
     "output_type": "stream",
     "text": [
      "/home/malub_local/ads_venv/lib/python2.7/site-packages/keras_preprocessing/image.py:988: UserWarning: This ImageDataGenerator specifies `featurewise_center`, but it hasn't been fit on any training data. Fit it first by calling `.fit(numpy_data)`.\n",
      "  warnings.warn('This ImageDataGenerator specifies '\n",
      "/home/malub_local/ads_venv/lib/python2.7/site-packages/keras_preprocessing/image.py:1007: UserWarning: This ImageDataGenerator specifies `zca_whitening`, but it hasn't been fit on any training data. Fit it first by calling `.fit(numpy_data)`.\n",
      "  warnings.warn('This ImageDataGenerator specifies '\n"
     ]
    },
    {
     "name": "stdout",
     "output_type": "stream",
     "text": [
      "6/6 [==============================] - 8s 1s/step - loss: 0.4083 - dice_coef: 0.4412 - val_loss: 2.2082 - val_dice_coef: 0.2476\n",
      "Epoch 2/150\n",
      "6/6 [==============================] - 3s 516ms/step - loss: 0.3702 - dice_coef: 0.4379 - val_loss: 1.0447 - val_dice_coef: 0.1215\n",
      "Epoch 3/150\n",
      "6/6 [==============================] - 3s 522ms/step - loss: 0.3646 - dice_coef: 0.4247 - val_loss: 4.3462 - val_dice_coef: 0.4941\n",
      "Epoch 4/150\n",
      "6/6 [==============================] - 3s 517ms/step - loss: 0.3548 - dice_coef: 0.4278 - val_loss: 1.3781 - val_dice_coef: 0.4861\n",
      "Epoch 5/150\n",
      "6/6 [==============================] - 3s 516ms/step - loss: 0.3497 - dice_coef: 0.4199 - val_loss: 4.3272 - val_dice_coef: 0.4956\n",
      "Epoch 6/150\n",
      "6/6 [==============================] - 3s 516ms/step - loss: 0.3435 - dice_coef: 0.4170 - val_loss: 0.8225 - val_dice_coef: 0.4719\n",
      "Epoch 7/150\n",
      "6/6 [==============================] - 3s 518ms/step - loss: 0.3377 - dice_coef: 0.4136 - val_loss: 1.2766 - val_dice_coef: 0.4888\n",
      "Epoch 8/150\n",
      "6/6 [==============================] - 3s 519ms/step - loss: 0.3330 - dice_coef: 0.4057 - val_loss: 0.3410 - val_dice_coef: 0.3447\n",
      "Epoch 9/150\n",
      "6/6 [==============================] - 3s 516ms/step - loss: 0.3276 - dice_coef: 0.4022 - val_loss: 0.3435 - val_dice_coef: 0.3776\n",
      "Epoch 10/150\n",
      "6/6 [==============================] - 3s 527ms/step - loss: 0.3229 - dice_coef: 0.3970 - val_loss: 0.3365 - val_dice_coef: 0.3683\n",
      "Epoch 11/150\n",
      "6/6 [==============================] - 3s 515ms/step - loss: 0.3180 - dice_coef: 0.3934 - val_loss: 0.3264 - val_dice_coef: 0.3661\n",
      "Epoch 12/150\n",
      "6/6 [==============================] - 3s 516ms/step - loss: 0.3146 - dice_coef: 0.3880 - val_loss: 0.3268 - val_dice_coef: 0.3636\n",
      "Epoch 13/150\n",
      "6/6 [==============================] - 3s 517ms/step - loss: 0.3103 - dice_coef: 0.3818 - val_loss: 0.3147 - val_dice_coef: 0.3507\n",
      "Epoch 14/150\n",
      "6/6 [==============================] - 3s 518ms/step - loss: 0.3067 - dice_coef: 0.3757 - val_loss: 0.3016 - val_dice_coef: 0.3363\n",
      "Epoch 15/150\n",
      "6/6 [==============================] - 3s 514ms/step - loss: 0.3033 - dice_coef: 0.3728 - val_loss: 0.2882 - val_dice_coef: 0.3131\n",
      "Epoch 16/150\n",
      "6/6 [==============================] - 3s 516ms/step - loss: 0.3006 - dice_coef: 0.3624 - val_loss: 0.2862 - val_dice_coef: 0.3148\n",
      "Epoch 17/150\n",
      "6/6 [==============================] - 3s 518ms/step - loss: 0.2973 - dice_coef: 0.3534 - val_loss: 0.2800 - val_dice_coef: 0.3029\n",
      "Epoch 18/150\n",
      "6/6 [==============================] - 3s 515ms/step - loss: 0.2959 - dice_coef: 0.3527 - val_loss: 0.2789 - val_dice_coef: 0.2998\n",
      "Epoch 19/150\n",
      "6/6 [==============================] - 3s 514ms/step - loss: 0.2930 - dice_coef: 0.3432 - val_loss: 0.2803 - val_dice_coef: 0.3012\n",
      "Epoch 20/150\n",
      "6/6 [==============================] - 3s 518ms/step - loss: 0.2913 - dice_coef: 0.3394 - val_loss: 0.2784 - val_dice_coef: 0.2982\n",
      "Epoch 21/150\n",
      "6/6 [==============================] - 3s 516ms/step - loss: 0.2894 - dice_coef: 0.3347 - val_loss: 0.2743 - val_dice_coef: 0.2678\n",
      "Epoch 22/150\n",
      "6/6 [==============================] - 3s 520ms/step - loss: 0.2879 - dice_coef: 0.3273 - val_loss: 0.2703 - val_dice_coef: 0.2660\n",
      "Epoch 23/150\n",
      "6/6 [==============================] - 3s 514ms/step - loss: 0.2870 - dice_coef: 0.3235 - val_loss: 0.2733 - val_dice_coef: 0.2707\n",
      "Epoch 24/150\n",
      "6/6 [==============================] - 3s 516ms/step - loss: 0.2861 - dice_coef: 0.3196 - val_loss: 0.2673 - val_dice_coef: 0.2604\n",
      "Epoch 25/150\n",
      "6/6 [==============================] - 3s 516ms/step - loss: 0.2860 - dice_coef: 0.3155 - val_loss: 0.2668 - val_dice_coef: 0.2603\n",
      "Epoch 26/150\n",
      "6/6 [==============================] - 3s 517ms/step - loss: 0.2848 - dice_coef: 0.3122 - val_loss: 0.2743 - val_dice_coef: 0.2828\n",
      "Epoch 27/150\n",
      "6/6 [==============================] - 3s 517ms/step - loss: 0.2848 - dice_coef: 0.3093 - val_loss: 0.2663 - val_dice_coef: 0.2583\n",
      "Epoch 28/150\n",
      "6/6 [==============================] - 3s 517ms/step - loss: 0.2847 - dice_coef: 0.3035 - val_loss: 0.2678 - val_dice_coef: 0.2717\n",
      "Epoch 29/150\n",
      "6/6 [==============================] - 3s 516ms/step - loss: 0.2826 - dice_coef: 0.3005 - val_loss: 0.2710 - val_dice_coef: 0.2805\n",
      "Epoch 30/150\n",
      "6/6 [==============================] - 3s 515ms/step - loss: 0.2824 - dice_coef: 0.3017 - val_loss: 0.2717 - val_dice_coef: 0.2884\n",
      "Epoch 31/150\n",
      "6/6 [==============================] - 3s 517ms/step - loss: 0.2827 - dice_coef: 0.2995 - val_loss: 0.2639 - val_dice_coef: 0.2396\n",
      "Epoch 32/150\n",
      "6/6 [==============================] - 3s 518ms/step - loss: 0.2820 - dice_coef: 0.2938 - val_loss: 0.2698 - val_dice_coef: 0.2724\n",
      "Epoch 33/150\n",
      "6/6 [==============================] - 3s 516ms/step - loss: 0.2839 - dice_coef: 0.2926 - val_loss: 0.2681 - val_dice_coef: 0.2522\n",
      "Epoch 34/150\n",
      "6/6 [==============================] - 3s 519ms/step - loss: 0.2830 - dice_coef: 0.2932 - val_loss: 0.2643 - val_dice_coef: 0.2291\n",
      "Epoch 35/150\n",
      "6/6 [==============================] - 3s 515ms/step - loss: 0.2847 - dice_coef: 0.2926 - val_loss: 0.2656 - val_dice_coef: 0.2636\n",
      "Epoch 36/150\n",
      "6/6 [==============================] - 3s 514ms/step - loss: 0.2838 - dice_coef: 0.2901 - val_loss: 0.2661 - val_dice_coef: 0.2668\n",
      "Epoch 37/150\n",
      "6/6 [==============================] - 3s 514ms/step - loss: 0.2835 - dice_coef: 0.2884 - val_loss: 0.2719 - val_dice_coef: 0.2898\n",
      "Epoch 38/150\n",
      "6/6 [==============================] - 3s 516ms/step - loss: 0.2828 - dice_coef: 0.2879 - val_loss: 0.2641 - val_dice_coef: 0.2527\n",
      "Epoch 39/150\n",
      "6/6 [==============================] - 3s 516ms/step - loss: 0.2824 - dice_coef: 0.2879 - val_loss: 0.2647 - val_dice_coef: 0.2387\n",
      "Epoch 40/150\n",
      "6/6 [==============================] - 3s 516ms/step - loss: 0.2837 - dice_coef: 0.2865 - val_loss: 0.2642 - val_dice_coef: 0.2410\n",
      "Epoch 41/150\n",
      "6/6 [==============================] - 3s 517ms/step - loss: 0.2826 - dice_coef: 0.2875 - val_loss: 0.2652 - val_dice_coef: 0.2411\n",
      "Epoch 42/150\n",
      "6/6 [==============================] - 3s 518ms/step - loss: 0.2811 - dice_coef: 0.2871 - val_loss: 0.2662 - val_dice_coef: 0.2454\n",
      "Epoch 43/150\n"
     ]
    }
   ],
   "source": [
    "# (1) Initialize model\n",
    "model = unet_full_bn(dropout=True)\n",
    "reset_weights(model)\n",
    "\n",
    "print(model.summary())\n",
    "\n",
    "params = get_params(img_rows, img_cols, nb_total, nb_train, nb_labeled, nb_unlabeled, apply_edt, nb_iterations, \n",
    "               nb_step_predictions, initial_train, nb_initial_epochs, nb_active_epochs, batch_size, \n",
    "              learning_rate, decay_rate, apply_augmentation,  featurewise_center, featurewise_std_normalization, \n",
    "              rotation_range, horizontal_flip, vertical_flip, zca_whitening, rescale, channel_shift_range, zoom_range )\n",
    "\n",
    "# data augmentation\n",
    "train_generator = data_generator().flow(X_train[labeled_index], y_train[labeled_index],\n",
    "                                      batch_size=batch_size, \n",
    "                                      shuffle=True)\n",
    "\n",
    "val_generator = data_generator().flow(X_valid, y_valid,\n",
    "                                      batch_size=batch_size, \n",
    "                                      shuffle=True)\n",
    "\n",
    "# training\n",
    "if initial_train:\n",
    "    model_checkpoint = ModelCheckpoint(initial_weights_path, monitor='loss', save_best_only=True)\n",
    "\n",
    "    if apply_augmentation:\n",
    "        timestamp = format(time.strftime('%m%d_%H%M_%S'))\n",
    "        tensorboard = TensorBoard(log_dir = str(\"logs/\" + str(timestamp)))\n",
    "        save_parameters(timestamp, params)\n",
    "        \n",
    "        history = model.fit_generator(train_generator, \n",
    "                                      validation_data=val_generator,\n",
    "                                    epochs=nb_initial_epochs, verbose=1, callbacks=[tensorboard])\n",
    "        \n",
    "        model.save(initial_weights_path)\n",
    "   \n",
    "    else:\n",
    "        timestamp = format(time.strftime('%m%d_%H%M_%S'))\n",
    "        tensorboard = TensorBoard(log_dir = str(\"logs/\" + str(timestamp)))\n",
    "        #save_parameters(timestamp, params)\n",
    "        \n",
    "        history = model.fit(X_train[labeled_index], y_train[labeled_index], validation_data=(X_valid, y_valid),\n",
    "                            batch_size=batch_size, \n",
    "                            epochs=nb_initial_epochs,\n",
    "                            verbose=1, shuffle=True, callbacks=[tensorboard])\n",
    "\n",
    "else:\n",
    "    model.load_weights(initial_weights_path)\n",
    "    \n",
    "print(\"Saving model...\\n\")   \n",
    "model.save(final_weights_path)\n",
    "\n",
    "\n",
    "\n",
    "# uncertainty computation\n",
    "\n",
    "weights = final_weights_path\n",
    "modelUncertain = unet_full_bn(dropout=True)\n",
    "modelUncertain.load_weights(weights)\n",
    "\n",
    "uncertain = np.zeros(len(X_test))\n",
    "accuracy = np.zeros(len(X_test))\n",
    "uncertain_map = []\n",
    "\n",
    "print(\"Computing log predictions ...\\n\")\n",
    "predictions = predict(X_test, model)\n",
    "\n",
    "for i in range(len(X_test)):\n",
    "    sample = X_test[i].reshape([1, 1, img_rows, img_cols])\n",
    "    sample_prediction = cv2.threshold(predictions[i], 0.5, 1, cv2.THRESH_BINARY)[1].astype('uint8')\n",
    "    accuracy[i] = compute_dice_coef(y_train[i][0], sample_prediction)\n",
    "    uncertain[i] = compute_uncertain(sample, sample_prediction, modelUncertain)\n",
    "    uncertain_map_i = compute_uncertain_map(sample, sample_prediction, modelUncertain)\n",
    "    uncertain_map.append(uncertain_map_i)\n",
    "    \n",
    "    \n",
    "uncertain_map_array = np.asarray(uncertain_map)\n",
    "print(uncertain_map_array.shape)\n",
    "print(\"Done\")"
   ]
  },
  {
   "cell_type": "code",
   "execution_count": null,
   "metadata": {},
   "outputs": [],
   "source": [
    "# Plot predictions and uncertainty map for 2 samples \n",
    "\n",
    "plt.figure(figsize=(20,10))\n",
    "plt.subplot(221)\n",
    "plt.imshow(predictions[0][0,:,:])\n",
    "plt.title(\"Prediction sample 1\")\n",
    "plt.subplot(222)\n",
    "plt.imshow(uncertain_map_array[0])\n",
    "plt.title(\"Uncertainty map sample 1\")\n",
    "plt.subplot(223)\n",
    "plt.imshow(X_test[0][0,:,:])\n",
    "plt.title(\"Sample 1\")\n",
    "plt.subplot(224)\n",
    "plt.imshow(y_test[0][0,:,:])\n",
    "plt.title(\"Ground Truth sample 1\")\n",
    "plt.tight_layout()\n",
    "plt.show()\n",
    "\n",
    "# Plot predictions and uncertainty map for 2 samples\n",
    "\n",
    "plt.figure(figsize=(20,10))\n",
    "plt.subplot(221)\n",
    "plt.imshow(predictions[1][0,:,:])\n",
    "plt.title(\"Prediction sample 2\")\n",
    "plt.subplot(222)\n",
    "plt.imshow(uncertain_map_array[1])\n",
    "plt.title(\"Uncertainty map sample 2\")\n",
    "plt.subplot(223)\n",
    "plt.imshow(X_test[1][0,:,:])\n",
    "plt.title(\"Sample 2\")\n",
    "plt.subplot(224)\n",
    "plt.imshow(y_test[1][0,:,:])\n",
    "plt.title(\"Ground Truth sample 2\")\n",
    "plt.tight_layout()\n",
    "plt.show()\n"
   ]
  },
  {
   "cell_type": "code",
   "execution_count": null,
   "metadata": {},
   "outputs": [],
   "source": [
    "imsave('prediction.png', predictions[0][0,:,:])\n",
    "imsave('uncertainty_map.png', uncertain_map_array[0])\n",
    "\n",
    "imsave('sample.png', X_test[0][0,:,:])\n",
    "imsave('mask.png', y_test[0][0,:,:])"
   ]
  },
  {
   "cell_type": "code",
   "execution_count": null,
   "metadata": {},
   "outputs": [],
   "source": [
    "X_test[0][0,:,:].shape"
   ]
  },
  {
   "cell_type": "code",
   "execution_count": null,
   "metadata": {},
   "outputs": [],
   "source": [
    "pwd"
   ]
  },
  {
   "cell_type": "code",
   "execution_count": null,
   "metadata": {},
   "outputs": [],
   "source": [
    "def data_generator(fill_mode ='reflect', featurewise_center = False, featurewise_std_normalization = False, \n",
    "                      rotation_range = 0.0 , horizontal_flip = False, vertical_flip = False, \n",
    "                      zca_whitening = False, zca_epsilon = 1e-6, rescale = None, zoom_range = 0.0, \n",
    "                      channel_shift_range = 0 , brightness_range=None, shear_range=0.0 ):\n",
    "    \"\"\"\n",
    "    :return: Keras data generator. Data augmentation parameters.\n",
    "    \"\"\"\n",
    "    return ImageDataGenerator(\n",
    "        fill_mode = fill_mode,\n",
    "        featurewise_center = featurewise_center,\n",
    "        featurewise_std_normalization = featurewise_std_normalization,\n",
    "        rotation_range = rotation_range, \n",
    "        horizontal_flip = horizontal_flip,\n",
    "        vertical_flip = vertical_flip,\n",
    "        zca_whitening = zca_whitening, \n",
    "        zca_epsilon = zca_epsilon, \n",
    "        rescale = rescale, \n",
    "        zoom_range = zoom_range, \n",
    "        channel_shift_range = channel_shift_range, \n",
    "        brightness_range=None, shear_range=0.0\n",
    "    )"
   ]
  },
  {
   "cell_type": "code",
   "execution_count": null,
   "metadata": {},
   "outputs": [],
   "source": [
    "X_da = X_train[:2]\n",
    "y_da = y_train[:2]"
   ]
  },
  {
   "cell_type": "code",
   "execution_count": null,
   "metadata": {},
   "outputs": [],
   "source": [
    "sample = X_da[0]"
   ]
  },
  {
   "cell_type": "markdown",
   "metadata": {},
   "source": []
  },
  {
   "cell_type": "code",
   "execution_count": null,
   "metadata": {},
   "outputs": [],
   "source": [
    "gen1 = data_generator(fill_mode ='reflect', featurewise_center = False, featurewise_std_normalization = False, \n",
    "                      rotation_range = 0 , horizontal_flip = False, vertical_flip = False, \n",
    "                      zca_whitening = False, zca_epsilon = 1e-6, rescale = None, zoom_range = 0.0, \n",
    "                      channel_shift_range = 0 , brightness_range=None, shear_range=0.0)\n",
    "# rotation range\n",
    "gen2 = data_generator(fill_mode ='reflect', featurewise_center = False, featurewise_std_normalization = False, \n",
    "                      rotation_range = 80.0 , horizontal_flip = False, vertical_flip = False, \n",
    "                      zca_whitening = False, zca_epsilon = 1e-6, rescale = None, zoom_range = 0.0, \n",
    "                      channel_shift_range = 0 , brightness_range=None, shear_range=0.0)\n",
    "\n",
    "# feature wise center and std norm\n",
    "gen3 = data_generator(fill_mode ='reflect', featurewise_center = True, featurewise_std_normalization = True, \n",
    "                      rotation_range = 0 , horizontal_flip = False, vertical_flip = False, \n",
    "                      zca_whitening = False, zca_epsilon = 1e-6, rescale = None, zoom_range = 0.0, \n",
    "                      channel_shift_range = 0 , brightness_range=None, shear_range=0.0)\n",
    "\n",
    "# zca whitening & flip\n",
    "gen4 = data_generator(fill_mode ='reflect', featurewise_center = False, featurewise_std_normalization = False, \n",
    "                      rotation_range = 0 , horizontal_flip = True, vertical_flip = True, \n",
    "                      zca_whitening = True, zca_epsilon = 1e-2, rescale = None, zoom_range = 0.0, \n",
    "                      channel_shift_range = 0 , brightness_range=None, shear_range=0.0)\n",
    "\n",
    "# brightness range\n",
    "gen5 = data_generator(fill_mode ='reflect', featurewise_center = False, featurewise_std_normalization = False, \n",
    "                      rotation_range = 0 , horizontal_flip = False, vertical_flip = False, \n",
    "                      zca_whitening = False, zca_epsilon = 1e-6, rescale = None, zoom_range = 0.0, \n",
    "                      channel_shift_range = 0 , brightness_range=10, shear_range=0.0)\n",
    "\n",
    "# Zoom Range and channel shift \n",
    "gen6 = data_generator(fill_mode ='reflect', featurewise_center = False, featurewise_std_normalization = False, \n",
    "                      rotation_range = 0 , horizontal_flip = False, vertical_flip = False, \n",
    "                      zca_whitening = False, zca_epsilon = 1e-6, rescale = None, zoom_range = 0.2, \n",
    "                      channel_shift_range = 10 , brightness_range=None, shear_range=0.0)\n",
    "\n",
    "# shear range\n",
    "gen7 = data_generator(fill_mode ='reflect', featurewise_center = False, featurewise_std_normalization = False, \n",
    "                      rotation_range = 0 , horizontal_flip = False, vertical_flip = False, \n",
    "                      zca_whitening = False, zca_epsilon = 1e-6, rescale = None, zoom_range = 0.0, \n",
    "                      channel_shift_range = 0 , brightness_range=0, shear_range=45)\n",
    "\n",
    "# zoom range\n",
    "gen8 = data_generator(fill_mode ='nearest', featurewise_center = False, featurewise_std_normalization = False, \n",
    "                      rotation_range = 80 , horizontal_flip = False, vertical_flip = False, \n",
    "                      zca_whitening = False, zca_epsilon = 1e-6, rescale = 10, zoom_range = 0.5, \n",
    "                      channel_shift_range = 0 , brightness_range=2, shear_range=0.2)\n",
    "\n",
    "# shear range\n",
    "gen9 = data_generator(fill_mode ='reflect', featurewise_center = True, featurewise_std_normalization = True, \n",
    "                      rotation_range = 20 , horizontal_flip = True, vertical_flip = True, \n",
    "                      zca_whitening = True, zca_epsilon = 1e-6, rescale = None, zoom_range = 0.2, \n",
    "                      channel_shift_range = 5, brightness_range=0, shear_range=0)"
   ]
  },
  {
   "cell_type": "code",
   "execution_count": null,
   "metadata": {},
   "outputs": [],
   "source": [
    "X_da[0].shape"
   ]
  },
  {
   "cell_type": "code",
   "execution_count": null,
   "metadata": {},
   "outputs": [],
   "source": [
    "generators = [gen1, gen2, gen3, gen4, gen5, gen6, gen7, gen8, gen9]\n",
    "X = np.zeros((10, 1, 512, 512))\n",
    "y = np.zeros((10, 1, 512, 512))\n",
    "i = 0\n",
    "\n",
    "for gen in generators:\n",
    "    train_generator = gen.flow(X_da, seed = 2, shuffle=False)\n",
    "    train_mask_generator = gen.flow(y_da, seed = 2, shuffle=False)\n",
    "    X[i] = train_generator[0][0]\n",
    "    y[i] = train_mask_generator[0][0]\n",
    "    i = i+1\n",
    "    \n",
    "X[9] = elastic_transform(X_da[0], X_da.shape[2] * 5, X_da.shape[2] * 0.08, X_da.shape[2] * 0.08)\n",
    "y[9] = elastic_transform(y_da[0], y_da.shape[2] * 5, y_da.shape[2] * 0.08, y_da.shape[2] * 0.08)"
   ]
  },
  {
   "cell_type": "code",
   "execution_count": null,
   "metadata": {},
   "outputs": [],
   "source": [
    "plt.figure(figsize=(15,15))\n",
    "plt.subplot(331)\n",
    "plt.imshow(X[9][0, :, :], cmap=plt.get_cmap('gray'))\n",
    "plt.title(\"Elastic transformation\")\n",
    "plt.subplot(332)\n",
    "plt.imshow(X[1].reshape(512, 512), cmap=plt.get_cmap('gray'))\n",
    "plt.title(\"Rotation\")\n",
    "plt.subplot(333)\n",
    "plt.imshow(X[2].reshape(512, 512), cmap=plt.get_cmap('gray'))\n",
    "plt.title(\"Featurewise center and std normalization\")\n",
    "plt.subplot(334)\n",
    "plt.imshow(X[3].reshape(512, 512), cmap=plt.get_cmap('gray'))\n",
    "plt.title(\"zca whitening and horizontal/vertical flip\")\n",
    "plt.subplot(335)\n",
    "plt.imshow(X[4].reshape(512, 512), cmap=plt.get_cmap('gray'))\n",
    "plt.title(\"brightness range\")\n",
    "plt.subplot(336)\n",
    "plt.imshow(X[5].reshape(512, 512), cmap=plt.get_cmap('gray'))\n",
    "plt.title(\"zoom range and channel shift\")\n",
    "plt.subplot(337)\n",
    "plt.imshow(X[6].reshape(512, 512), cmap=plt.get_cmap('gray'))\n",
    "plt.title(\"shear range\")\n",
    "plt.subplot(338)\n",
    "plt.imshow(X[7].reshape(512, 512), cmap=plt.get_cmap('gray'))\n",
    "plt.title(\"zoom range\")\n",
    "plt.subplot(339)\n",
    "plt.imshow(X[8].reshape(512, 512), cmap=plt.get_cmap('gray'))\n",
    "plt.title(\"All\")\n",
    "plt.show()"
   ]
  },
  {
   "cell_type": "code",
   "execution_count": null,
   "metadata": {},
   "outputs": [],
   "source": [
    "def elastic_transform(image, alpha, sigma, alpha_affine, random_state=None):\n",
    "    \"\"\"Elastic deformation of images as described in [Simard2003]_ (with modifications).\n",
    "    .. [Simard2003] Simard, Steinkraus and Platt, \"Best Practices for\n",
    "         Convolutional Neural Networks applied to Visual Document Analysis\", in\n",
    "         Proc. of the International Conference on Document Analysis and\n",
    "         Recognition, 2003.\n",
    "\n",
    "     Based on https://gist.github.com/erniejunior/601cdf56d2b424757de5\n",
    "    \"\"\"\n",
    "    if random_state is None:\n",
    "        random_state = np.random.RandomState(None)\n",
    "\n",
    "    shape = image.shape\n",
    "    shape_size = shape[1:]\n",
    "    \n",
    "    # Random affine\n",
    "    center_square = np.float32(shape_size) // 2\n",
    "    square_size = min(shape_size) // 3\n",
    "    pts1 = np.float32([center_square + square_size, [center_square[0]+square_size, center_square[1]-square_size], center_square - square_size])\n",
    "    pts2 = pts1 + random_state.uniform(-alpha_affine, alpha_affine, size=pts1.shape).astype(np.float32)\n",
    "    M = cv2.getAffineTransform(pts1, pts2)\n",
    "    image = cv2.warpAffine(image, M, shape_size[::-1], borderMode=cv2.BORDER_REFLECT_101)\n",
    "\n",
    "    dx = gaussian_filter((random_state.rand(*shape) * 2 - 1), sigma) * alpha\n",
    "    dy = gaussian_filter((random_state.rand(*shape) * 2 - 1), sigma) * alpha\n",
    "    dz = np.zeros_like(dx)\n",
    "\n",
    "    x, y, z = np.meshgrid(np.arange(shape[1]), np.arange(shape[0]), np.arange(shape[2]))\n",
    "    indices = np.reshape(y+dy, (-1, 1)), np.reshape(x+dx, (-1, 1)), np.reshape(z, (-1, 1))\n",
    "\n",
    "    return map_coordinates(image, indices, order=1, mode='reflect').reshape(shape)"
   ]
  },
  {
   "cell_type": "code",
   "execution_count": null,
   "metadata": {},
   "outputs": [],
   "source": [
    "sample"
   ]
  },
  {
   "cell_type": "code",
   "execution_count": null,
   "metadata": {},
   "outputs": [],
   "source": [
    "elastic = elastic_transform(X_da[0], sample.shape[2] * 15, sample.shape[2] * 0.08, sample.shape[2] * 0.08)\n",
    "elastic.shape"
   ]
  },
  {
   "cell_type": "code",
   "execution_count": null,
   "metadata": {},
   "outputs": [],
   "source": [
    "plt.imshow(elastic[0, :, :])"
   ]
  },
  {
   "cell_type": "code",
   "execution_count": null,
   "metadata": {},
   "outputs": [],
   "source": [
    "X_da.shape[2]"
   ]
  },
  {
   "cell_type": "code",
   "execution_count": null,
   "metadata": {
    "scrolled": false
   },
   "outputs": [],
   "source": [
    "# configure batch size and retrieve one batch of images\n",
    "for i in range(0,3):\n",
    "    plt.figure(figsize=(15,15))\n",
    "    plt.subplot(320 + (2*i +1))\n",
    "    plt.imshow(X[i].reshape(512, 512))\n",
    "    print(i,  2*i + 1,  2*i+2 )\n",
    "    plt.subplot(320 + (2*i+2) )\n",
    "    plt.imshow(y[i].reshape(512, 512), cmap=plt.get_cmap('gray'))\n",
    "# show the plot\n",
    "plt.show()"
   ]
  },
  {
   "cell_type": "code",
   "execution_count": null,
   "metadata": {},
   "outputs": [],
   "source": [
    "# data augmentation\n",
    "\n",
    "datagen = data_generator()\n",
    "\n",
    "datagen.fit(X_train)\n",
    "\n",
    "train_generator = gen1.flow(X_da, seed = 2, shuffle=False)\n",
    "train_mask_generator = gen1.flow(y_da, seed = 2, shuffle=False)\n",
    "\n",
    "\n",
    "\n",
    "val_generator = datagen.flow(X_valid, seed = 2, \n",
    "                                      batch_size=12, \n",
    "                                      shuffle=False)\n",
    "\n",
    "val_mask_generator = datagen.flow(y_valid, seed = 2, \n",
    "                                      batch_size=12, \n",
    "                                      shuffle=False)"
   ]
  },
  {
   "cell_type": "code",
   "execution_count": null,
   "metadata": {},
   "outputs": [],
   "source": [
    "# configure batch size and retrieve one batch of images\n",
    "for X_batch, y_batch in zip(train_generator, train_mask_generator):\n",
    "    plt.figure(figsize=(15,7))\n",
    "    print(X_batch.shape)\n",
    "    for i in range(0, 2):\n",
    "        plt.subplot(240 + 2*i +1)\n",
    "        plt.imshow(X_batch[0].reshape(512, 512), cmap=plt.get_cmap('gray'))\n",
    "        plt.subplot(240 + 2*i + 2)\n",
    "        plt.imshow(y_batch[0].reshape(512, 512), cmap=plt.get_cmap('gray'))\n",
    "# show the plot\n",
    "    plt.show()\n",
    "    break\n",
    "    \n",
    "    "
   ]
  },
  {
   "cell_type": "code",
   "execution_count": null,
   "metadata": {},
   "outputs": [],
   "source": [
    "# configure batch size and retrieve one batch of images\n",
    "for X_batch, y_batch in zip(train_generator, train_mask_generator):\n",
    "    plt.figure(figsize=(10,15))\n",
    "    print(X_batch.shape)\n",
    "    for i in range(0, 3):\n",
    "        plt.subplot(320 + 2*i +1)\n",
    "        plt.imshow(X_batch[i].reshape(512, 512), cmap=plt.get_cmap('gray'))\n",
    "        plt.subplot(320 + 2*i + 2)\n",
    "        plt.imshow(y_batch[i].reshape(512, 512), cmap=plt.get_cmap('gray'))\n",
    "# show the plot\n",
    "    plt.show()\n",
    "    break"
   ]
  },
  {
   "cell_type": "code",
   "execution_count": null,
   "metadata": {},
   "outputs": [],
   "source": [
    "def plotImages( images_arr, n_images=4):\n",
    "    fig, axes = plt.subplots(n_images, n_images, figsize=(12,12))\n",
    "    axes = axes.flatten()\n",
    "    for img, ax in zip( images_arr, axes):\n",
    "        if img.ndim != 2:\n",
    "            img = img.reshape( (SIZE,SIZE))\n",
    "        ax.imshow( img, cmap=\"Greys_r\")\n",
    "        ax.set_xticks(())\n",
    "        ax.set_yticks(())\n",
    "    plt.tight_layout()"
   ]
  },
  {
   "cell_type": "code",
   "execution_count": null,
   "metadata": {},
   "outputs": [],
   "source": [
    "print(\"Computing log predictions ...\\n\")\n",
    "predictions = predict(X_test, model)"
   ]
  },
  {
   "cell_type": "code",
   "execution_count": null,
   "metadata": {},
   "outputs": [],
   "source": [
    "X_test.shape"
   ]
  },
  {
   "cell_type": "code",
   "execution_count": null,
   "metadata": {},
   "outputs": [],
   "source": [
    "compute_dice_coef(predictions[0], y_test[0])"
   ]
  },
  {
   "cell_type": "code",
   "execution_count": null,
   "metadata": {},
   "outputs": [],
   "source": [
    "plt.imshow(predictions[0][0,:,:])"
   ]
  },
  {
   "cell_type": "code",
   "execution_count": null,
   "metadata": {},
   "outputs": [],
   "source": [
    "path_img_valid"
   ]
  },
  {
   "cell_type": "code",
   "execution_count": null,
   "metadata": {},
   "outputs": [],
   "source": [
    "# CEAL data definition\n",
    "X_valid, y_valid = load_data(path_img_valid, path_mask_valid)\n",
    "print(\"*************Xvalid.shape***********\", X_valid.shape)"
   ]
  },
  {
   "cell_type": "code",
   "execution_count": null,
   "metadata": {},
   "outputs": [],
   "source": [
    "X_test = X_valid[-2:]\n",
    "y_test = y_valid[-2:]"
   ]
  },
  {
   "cell_type": "code",
   "execution_count": null,
   "metadata": {},
   "outputs": [],
   "source": [
    "plt.imshow(X_test[0][0,:,:])"
   ]
  },
  {
   "cell_type": "code",
   "execution_count": null,
   "metadata": {},
   "outputs": [],
   "source": []
  }
 ],
 "metadata": {
  "kernelspec": {
   "display_name": "Python 2",
   "language": "python",
   "name": "python2"
  },
  "language_info": {
   "codemirror_mode": {
    "name": "ipython",
    "version": 2
   },
   "file_extension": ".py",
   "mimetype": "text/x-python",
   "name": "python",
   "nbconvert_exporter": "python",
   "pygments_lexer": "ipython2",
   "version": "2.7.5"
  }
 },
 "nbformat": 4,
 "nbformat_minor": 2
}
